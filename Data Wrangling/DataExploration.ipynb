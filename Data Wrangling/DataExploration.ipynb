{
 "cells": [
  {
   "cell_type": "markdown",
   "metadata": {},
   "source": [
    "# Introduction"
   ]
  },
  {
   "cell_type": "markdown",
   "metadata": {},
   "source": [
    "In this competition, you are provided with 1.5 years of customers behavior data from Santander bank to predict what new products customers will purchase. The data starts at 2015-01-28 and has monthly records of products a customer has, such as \"credit card\", \"savings account\", etc. You will predict what additional products a customer will get in the last month, 2016-06-28, in addition to what they already have at 2016-05-28. These products are the columns named: ind_(xyz)_ult1, which are the columns #25 - #48 in the training data. You will predict what a customer will buy in addition to what they already had at 2016-05-28. \n",
    "\n",
    "The test and train sets are split by time, and public and private leaderboard sets are split randomly."
   ]
  },
  {
   "cell_type": "markdown",
   "metadata": {},
   "source": [
    "# Package Imports"
   ]
  },
  {
   "cell_type": "code",
   "execution_count": 1,
   "metadata": {},
   "outputs": [],
   "source": [
    "import numpy as np\n",
    "import pandas as pd\n",
    "import matplotlib.pyplot as plt\n",
    "import seaborn as sns\n",
    "import os\n",
    "import sys\n",
    "%matplotlib inline"
   ]
  },
  {
   "cell_type": "markdown",
   "metadata": {},
   "source": [
    "# Data Loading"
   ]
  },
  {
   "cell_type": "code",
   "execution_count": null,
   "metadata": {},
   "outputs": [],
   "source": []
  },
  {
   "cell_type": "markdown",
   "metadata": {},
   "source": [
    "About the datasets: \\\n",
    "    train.csv - the training set \\\n",
    "    test.csv - the test set \\\n",
    "    sample_submission.csv - a sample submission file in the correct form"
   ]
  },
  {
   "cell_type": "code",
   "execution_count": 2,
   "metadata": {},
   "outputs": [],
   "source": [
    "current_dir = os.getcwd()\n",
    "arr = os.listdir()"
   ]
  },
  {
   "cell_type": "code",
   "execution_count": 3,
   "metadata": {},
   "outputs": [],
   "source": [
    "PROJ_ROOT = os.path.join(current_dir)"
   ]
  },
  {
   "cell_type": "code",
   "execution_count": 4,
   "metadata": {},
   "outputs": [],
   "source": [
    "data1 = os.path.join(PROJ_ROOT,\n",
    "                              \"data\",\n",
    "                              \"train_ver2.csv\")\n",
    "src_dir = os.path.join(PROJ_ROOT, \"src\")\n",
    "\n",
    "data2 = os.path.join(PROJ_ROOT,\n",
    "                              \"data\",\n",
    "                              \"Feature Description.xlsx\")"
   ]
  },
  {
   "cell_type": "code",
   "execution_count": 5,
   "metadata": {},
   "outputs": [],
   "source": [
    "# add local python functions\n",
    "sys.path.append(src_dir)\n",
    "sys.path.append(data1)\n",
    "sys.path.append(data2)"
   ]
  },
  {
   "cell_type": "code",
   "execution_count": 6,
   "metadata": {},
   "outputs": [
    {
     "name": "stderr",
     "output_type": "stream",
     "text": [
      "C:\\Users\\srafi\\AppData\\Local\\Temp\\ipykernel_16272\\1236936928.py:2: DtypeWarning: Columns (5,8,11,15) have mixed types. Specify dtype option on import or set low_memory=False.\n",
      "  load_data = pd.read_csv(data1, dtype={\"sexo\":str,\n"
     ]
    }
   ],
   "source": [
    "#limit_rows = 7000000\n",
    "load_data = pd.read_csv(data1, dtype={\"sexo\":str,\n",
    "                                                    \"ind_nuevo\":str,\n",
    "                                                    \"ult_fec_cli_1t\":str,\n",
    "                                                    \"indext\":str})"
   ]
  },
  {
   "cell_type": "code",
   "execution_count": 7,
   "metadata": {},
   "outputs": [],
   "source": [
    "df = load_data.copy()"
   ]
  },
  {
   "cell_type": "code",
   "execution_count": 8,
   "metadata": {},
   "outputs": [
    {
     "data": {
      "text/plain": [
       "13647309"
      ]
     },
     "execution_count": 8,
     "metadata": {},
     "output_type": "execute_result"
    }
   ],
   "source": [
    "df.shape[0]"
   ]
  },
  {
   "cell_type": "code",
   "execution_count": 9,
   "metadata": {},
   "outputs": [],
   "source": [
    "pd.options.display.max_colwidth=None\n",
    "features = pd.read_excel(data2)\n"
   ]
  },
  {
   "cell_type": "code",
   "execution_count": 10,
   "metadata": {},
   "outputs": [],
   "source": [
    "column_maping_dic = {col:features.iloc[i,2] for (col, i)  in zip(features['Column Name'], features.index)}"
   ]
  },
  {
   "cell_type": "code",
   "execution_count": 11,
   "metadata": {},
   "outputs": [],
   "source": [
    "df.rename(columns=column_maping_dic, inplace=True)"
   ]
  },
  {
   "cell_type": "code",
   "execution_count": 12,
   "metadata": {},
   "outputs": [
    {
     "data": {
      "text/plain": [
       "['date_identifier',\n",
       " 'customer_code',\n",
       " 'employee_index',\n",
       " 'country_resid',\n",
       " 'sex',\n",
       " 'age',\n",
       " 'date_join',\n",
       " 'customer_registered_in_last6month',\n",
       " 'customer_seniority_month',\n",
       " 'customer_loyalty',\n",
       " 'last_date_asprimary_customer_ifnot_endofmonth',\n",
       " 'customer_type_atbeginningofmonth',\n",
       " 'customer_relationtype_atbeginningofmonth',\n",
       " 'customer_residence_index',\n",
       " 'customer_foreigner_index',\n",
       " 'spouse_index',\n",
       " 'channel_used_tojoin',\n",
       " 'customer_dceased',\n",
       " 'address_type',\n",
       " 'province_code',\n",
       " 'province_name',\n",
       " 'activity_index',\n",
       " 'gross_income_household',\n",
       " 'customer_segmentation_vip_indiv_colleggrad',\n",
       " 'saving_account',\n",
       " 'guarantees',\n",
       " 'current_accounts',\n",
       " 'derivada_account',\n",
       " 'payroll_account',\n",
       " 'junior_account',\n",
       " 'más_particular_account',\n",
       " 'particular_account',\n",
       " 'particular_plus_account',\n",
       " 'shortterm_deposits',\n",
       " 'mediumterm_deposits',\n",
       " 'longterm_deposits',\n",
       " 'e_account',\n",
       " 'funds',\n",
       " 'mortgage',\n",
       " 'pensions_plan',\n",
       " 'loans',\n",
       " 'taxes',\n",
       " 'credit_card',\n",
       " 'securities',\n",
       " 'home_account',\n",
       " 'payroll',\n",
       " 'pensions',\n",
       " 'direct_debit']"
      ]
     },
     "execution_count": 12,
     "metadata": {},
     "output_type": "execute_result"
    }
   ],
   "source": [
    "df.columns.tolist()"
   ]
  },
  {
   "cell_type": "code",
   "execution_count": 13,
   "metadata": {},
   "outputs": [
    {
     "data": {
      "text/html": [
       "<div>\n",
       "<style scoped>\n",
       "    .dataframe tbody tr th:only-of-type {\n",
       "        vertical-align: middle;\n",
       "    }\n",
       "\n",
       "    .dataframe tbody tr th {\n",
       "        vertical-align: top;\n",
       "    }\n",
       "\n",
       "    .dataframe thead th {\n",
       "        text-align: right;\n",
       "    }\n",
       "</style>\n",
       "<table border=\"1\" class=\"dataframe\">\n",
       "  <thead>\n",
       "    <tr style=\"text-align: right;\">\n",
       "      <th></th>\n",
       "      <th>count</th>\n",
       "      <th>mean</th>\n",
       "      <th>std</th>\n",
       "      <th>min</th>\n",
       "      <th>25%</th>\n",
       "      <th>50%</th>\n",
       "      <th>75%</th>\n",
       "      <th>max</th>\n",
       "    </tr>\n",
       "  </thead>\n",
       "  <tbody>\n",
       "    <tr>\n",
       "      <th>customer_code</th>\n",
       "      <td>13647309.0</td>\n",
       "      <td>834904.211501</td>\n",
       "      <td>431565.025784</td>\n",
       "      <td>15889.00</td>\n",
       "      <td>452813.00</td>\n",
       "      <td>931893.0</td>\n",
       "      <td>1199286.00</td>\n",
       "      <td>1553689.00</td>\n",
       "    </tr>\n",
       "    <tr>\n",
       "      <th>customer_loyalty</th>\n",
       "      <td>13619575.0</td>\n",
       "      <td>1.178399</td>\n",
       "      <td>4.177469</td>\n",
       "      <td>1.00</td>\n",
       "      <td>1.00</td>\n",
       "      <td>1.0</td>\n",
       "      <td>1.00</td>\n",
       "      <td>99.00</td>\n",
       "    </tr>\n",
       "    <tr>\n",
       "      <th>address_type</th>\n",
       "      <td>13619574.0</td>\n",
       "      <td>1.000000</td>\n",
       "      <td>0.000000</td>\n",
       "      <td>1.00</td>\n",
       "      <td>1.00</td>\n",
       "      <td>1.0</td>\n",
       "      <td>1.00</td>\n",
       "      <td>1.00</td>\n",
       "    </tr>\n",
       "    <tr>\n",
       "      <th>province_code</th>\n",
       "      <td>13553718.0</td>\n",
       "      <td>26.571470</td>\n",
       "      <td>12.784017</td>\n",
       "      <td>1.00</td>\n",
       "      <td>15.00</td>\n",
       "      <td>28.0</td>\n",
       "      <td>35.00</td>\n",
       "      <td>52.00</td>\n",
       "    </tr>\n",
       "    <tr>\n",
       "      <th>activity_index</th>\n",
       "      <td>13619575.0</td>\n",
       "      <td>0.457811</td>\n",
       "      <td>0.498217</td>\n",
       "      <td>0.00</td>\n",
       "      <td>0.00</td>\n",
       "      <td>0.0</td>\n",
       "      <td>1.00</td>\n",
       "      <td>1.00</td>\n",
       "    </tr>\n",
       "    <tr>\n",
       "      <th>gross_income_household</th>\n",
       "      <td>10852934.0</td>\n",
       "      <td>134254.318238</td>\n",
       "      <td>230620.238822</td>\n",
       "      <td>1202.73</td>\n",
       "      <td>68710.98</td>\n",
       "      <td>101850.0</td>\n",
       "      <td>155955.96</td>\n",
       "      <td>28894395.51</td>\n",
       "    </tr>\n",
       "    <tr>\n",
       "      <th>saving_account</th>\n",
       "      <td>13647309.0</td>\n",
       "      <td>0.000102</td>\n",
       "      <td>0.010113</td>\n",
       "      <td>0.00</td>\n",
       "      <td>0.00</td>\n",
       "      <td>0.0</td>\n",
       "      <td>0.00</td>\n",
       "      <td>1.00</td>\n",
       "    </tr>\n",
       "    <tr>\n",
       "      <th>guarantees</th>\n",
       "      <td>13647309.0</td>\n",
       "      <td>0.000023</td>\n",
       "      <td>0.004812</td>\n",
       "      <td>0.00</td>\n",
       "      <td>0.00</td>\n",
       "      <td>0.0</td>\n",
       "      <td>0.00</td>\n",
       "      <td>1.00</td>\n",
       "    </tr>\n",
       "    <tr>\n",
       "      <th>current_accounts</th>\n",
       "      <td>13647309.0</td>\n",
       "      <td>0.655484</td>\n",
       "      <td>0.475210</td>\n",
       "      <td>0.00</td>\n",
       "      <td>0.00</td>\n",
       "      <td>1.0</td>\n",
       "      <td>1.00</td>\n",
       "      <td>1.00</td>\n",
       "    </tr>\n",
       "    <tr>\n",
       "      <th>derivada_account</th>\n",
       "      <td>13647309.0</td>\n",
       "      <td>0.000394</td>\n",
       "      <td>0.019844</td>\n",
       "      <td>0.00</td>\n",
       "      <td>0.00</td>\n",
       "      <td>0.0</td>\n",
       "      <td>0.00</td>\n",
       "      <td>1.00</td>\n",
       "    </tr>\n",
       "    <tr>\n",
       "      <th>payroll_account</th>\n",
       "      <td>13647309.0</td>\n",
       "      <td>0.080867</td>\n",
       "      <td>0.272631</td>\n",
       "      <td>0.00</td>\n",
       "      <td>0.00</td>\n",
       "      <td>0.0</td>\n",
       "      <td>0.00</td>\n",
       "      <td>1.00</td>\n",
       "    </tr>\n",
       "    <tr>\n",
       "      <th>junior_account</th>\n",
       "      <td>13647309.0</td>\n",
       "      <td>0.009474</td>\n",
       "      <td>0.096873</td>\n",
       "      <td>0.00</td>\n",
       "      <td>0.00</td>\n",
       "      <td>0.0</td>\n",
       "      <td>0.00</td>\n",
       "      <td>1.00</td>\n",
       "    </tr>\n",
       "    <tr>\n",
       "      <th>más_particular_account</th>\n",
       "      <td>13647309.0</td>\n",
       "      <td>0.009727</td>\n",
       "      <td>0.098143</td>\n",
       "      <td>0.00</td>\n",
       "      <td>0.00</td>\n",
       "      <td>0.0</td>\n",
       "      <td>0.00</td>\n",
       "      <td>1.00</td>\n",
       "    </tr>\n",
       "    <tr>\n",
       "      <th>particular_account</th>\n",
       "      <td>13647309.0</td>\n",
       "      <td>0.129008</td>\n",
       "      <td>0.335209</td>\n",
       "      <td>0.00</td>\n",
       "      <td>0.00</td>\n",
       "      <td>0.0</td>\n",
       "      <td>0.00</td>\n",
       "      <td>1.00</td>\n",
       "    </tr>\n",
       "    <tr>\n",
       "      <th>particular_plus_account</th>\n",
       "      <td>13647309.0</td>\n",
       "      <td>0.043306</td>\n",
       "      <td>0.203545</td>\n",
       "      <td>0.00</td>\n",
       "      <td>0.00</td>\n",
       "      <td>0.0</td>\n",
       "      <td>0.00</td>\n",
       "      <td>1.00</td>\n",
       "    </tr>\n",
       "    <tr>\n",
       "      <th>shortterm_deposits</th>\n",
       "      <td>13647309.0</td>\n",
       "      <td>0.001779</td>\n",
       "      <td>0.042138</td>\n",
       "      <td>0.00</td>\n",
       "      <td>0.00</td>\n",
       "      <td>0.0</td>\n",
       "      <td>0.00</td>\n",
       "      <td>1.00</td>\n",
       "    </tr>\n",
       "    <tr>\n",
       "      <th>mediumterm_deposits</th>\n",
       "      <td>13647309.0</td>\n",
       "      <td>0.001661</td>\n",
       "      <td>0.040721</td>\n",
       "      <td>0.00</td>\n",
       "      <td>0.00</td>\n",
       "      <td>0.0</td>\n",
       "      <td>0.00</td>\n",
       "      <td>1.00</td>\n",
       "    </tr>\n",
       "    <tr>\n",
       "      <th>longterm_deposits</th>\n",
       "      <td>13647309.0</td>\n",
       "      <td>0.042967</td>\n",
       "      <td>0.202782</td>\n",
       "      <td>0.00</td>\n",
       "      <td>0.00</td>\n",
       "      <td>0.0</td>\n",
       "      <td>0.00</td>\n",
       "      <td>1.00</td>\n",
       "    </tr>\n",
       "    <tr>\n",
       "      <th>e_account</th>\n",
       "      <td>13647309.0</td>\n",
       "      <td>0.082744</td>\n",
       "      <td>0.275494</td>\n",
       "      <td>0.00</td>\n",
       "      <td>0.00</td>\n",
       "      <td>0.0</td>\n",
       "      <td>0.00</td>\n",
       "      <td>1.00</td>\n",
       "    </tr>\n",
       "    <tr>\n",
       "      <th>funds</th>\n",
       "      <td>13647309.0</td>\n",
       "      <td>0.018486</td>\n",
       "      <td>0.134701</td>\n",
       "      <td>0.00</td>\n",
       "      <td>0.00</td>\n",
       "      <td>0.0</td>\n",
       "      <td>0.00</td>\n",
       "      <td>1.00</td>\n",
       "    </tr>\n",
       "    <tr>\n",
       "      <th>mortgage</th>\n",
       "      <td>13647309.0</td>\n",
       "      <td>0.005887</td>\n",
       "      <td>0.076498</td>\n",
       "      <td>0.00</td>\n",
       "      <td>0.00</td>\n",
       "      <td>0.0</td>\n",
       "      <td>0.00</td>\n",
       "      <td>1.00</td>\n",
       "    </tr>\n",
       "    <tr>\n",
       "      <th>pensions_plan</th>\n",
       "      <td>13647309.0</td>\n",
       "      <td>0.009171</td>\n",
       "      <td>0.095325</td>\n",
       "      <td>0.00</td>\n",
       "      <td>0.00</td>\n",
       "      <td>0.0</td>\n",
       "      <td>0.00</td>\n",
       "      <td>1.00</td>\n",
       "    </tr>\n",
       "    <tr>\n",
       "      <th>loans</th>\n",
       "      <td>13647309.0</td>\n",
       "      <td>0.002627</td>\n",
       "      <td>0.051191</td>\n",
       "      <td>0.00</td>\n",
       "      <td>0.00</td>\n",
       "      <td>0.0</td>\n",
       "      <td>0.00</td>\n",
       "      <td>1.00</td>\n",
       "    </tr>\n",
       "    <tr>\n",
       "      <th>taxes</th>\n",
       "      <td>13647309.0</td>\n",
       "      <td>0.052536</td>\n",
       "      <td>0.223106</td>\n",
       "      <td>0.00</td>\n",
       "      <td>0.00</td>\n",
       "      <td>0.0</td>\n",
       "      <td>0.00</td>\n",
       "      <td>1.00</td>\n",
       "    </tr>\n",
       "    <tr>\n",
       "      <th>credit_card</th>\n",
       "      <td>13647309.0</td>\n",
       "      <td>0.044389</td>\n",
       "      <td>0.205957</td>\n",
       "      <td>0.00</td>\n",
       "      <td>0.00</td>\n",
       "      <td>0.0</td>\n",
       "      <td>0.00</td>\n",
       "      <td>1.00</td>\n",
       "    </tr>\n",
       "    <tr>\n",
       "      <th>securities</th>\n",
       "      <td>13647309.0</td>\n",
       "      <td>0.025608</td>\n",
       "      <td>0.157962</td>\n",
       "      <td>0.00</td>\n",
       "      <td>0.00</td>\n",
       "      <td>0.0</td>\n",
       "      <td>0.00</td>\n",
       "      <td>1.00</td>\n",
       "    </tr>\n",
       "    <tr>\n",
       "      <th>home_account</th>\n",
       "      <td>13647309.0</td>\n",
       "      <td>0.003848</td>\n",
       "      <td>0.061911</td>\n",
       "      <td>0.00</td>\n",
       "      <td>0.00</td>\n",
       "      <td>0.0</td>\n",
       "      <td>0.00</td>\n",
       "      <td>1.00</td>\n",
       "    </tr>\n",
       "    <tr>\n",
       "      <th>payroll</th>\n",
       "      <td>13631246.0</td>\n",
       "      <td>0.054724</td>\n",
       "      <td>0.227441</td>\n",
       "      <td>0.00</td>\n",
       "      <td>0.00</td>\n",
       "      <td>0.0</td>\n",
       "      <td>0.00</td>\n",
       "      <td>1.00</td>\n",
       "    </tr>\n",
       "    <tr>\n",
       "      <th>pensions</th>\n",
       "      <td>13631246.0</td>\n",
       "      <td>0.059429</td>\n",
       "      <td>0.236425</td>\n",
       "      <td>0.00</td>\n",
       "      <td>0.00</td>\n",
       "      <td>0.0</td>\n",
       "      <td>0.00</td>\n",
       "      <td>1.00</td>\n",
       "    </tr>\n",
       "    <tr>\n",
       "      <th>direct_debit</th>\n",
       "      <td>13647309.0</td>\n",
       "      <td>0.127916</td>\n",
       "      <td>0.333996</td>\n",
       "      <td>0.00</td>\n",
       "      <td>0.00</td>\n",
       "      <td>0.0</td>\n",
       "      <td>0.00</td>\n",
       "      <td>1.00</td>\n",
       "    </tr>\n",
       "  </tbody>\n",
       "</table>\n",
       "</div>"
      ],
      "text/plain": [
       "                              count           mean            std       min  \\\n",
       "customer_code            13647309.0  834904.211501  431565.025784  15889.00   \n",
       "customer_loyalty         13619575.0       1.178399       4.177469      1.00   \n",
       "address_type             13619574.0       1.000000       0.000000      1.00   \n",
       "province_code            13553718.0      26.571470      12.784017      1.00   \n",
       "activity_index           13619575.0       0.457811       0.498217      0.00   \n",
       "gross_income_household   10852934.0  134254.318238  230620.238822   1202.73   \n",
       "saving_account           13647309.0       0.000102       0.010113      0.00   \n",
       "guarantees               13647309.0       0.000023       0.004812      0.00   \n",
       "current_accounts         13647309.0       0.655484       0.475210      0.00   \n",
       "derivada_account         13647309.0       0.000394       0.019844      0.00   \n",
       "payroll_account          13647309.0       0.080867       0.272631      0.00   \n",
       "junior_account           13647309.0       0.009474       0.096873      0.00   \n",
       "más_particular_account   13647309.0       0.009727       0.098143      0.00   \n",
       "particular_account       13647309.0       0.129008       0.335209      0.00   \n",
       "particular_plus_account  13647309.0       0.043306       0.203545      0.00   \n",
       "shortterm_deposits       13647309.0       0.001779       0.042138      0.00   \n",
       "mediumterm_deposits      13647309.0       0.001661       0.040721      0.00   \n",
       "longterm_deposits        13647309.0       0.042967       0.202782      0.00   \n",
       "e_account                13647309.0       0.082744       0.275494      0.00   \n",
       "funds                    13647309.0       0.018486       0.134701      0.00   \n",
       "mortgage                 13647309.0       0.005887       0.076498      0.00   \n",
       "pensions_plan            13647309.0       0.009171       0.095325      0.00   \n",
       "loans                    13647309.0       0.002627       0.051191      0.00   \n",
       "taxes                    13647309.0       0.052536       0.223106      0.00   \n",
       "credit_card              13647309.0       0.044389       0.205957      0.00   \n",
       "securities               13647309.0       0.025608       0.157962      0.00   \n",
       "home_account             13647309.0       0.003848       0.061911      0.00   \n",
       "payroll                  13631246.0       0.054724       0.227441      0.00   \n",
       "pensions                 13631246.0       0.059429       0.236425      0.00   \n",
       "direct_debit             13647309.0       0.127916       0.333996      0.00   \n",
       "\n",
       "                               25%       50%         75%          max  \n",
       "customer_code            452813.00  931893.0  1199286.00   1553689.00  \n",
       "customer_loyalty              1.00       1.0        1.00        99.00  \n",
       "address_type                  1.00       1.0        1.00         1.00  \n",
       "province_code                15.00      28.0       35.00        52.00  \n",
       "activity_index                0.00       0.0        1.00         1.00  \n",
       "gross_income_household    68710.98  101850.0   155955.96  28894395.51  \n",
       "saving_account                0.00       0.0        0.00         1.00  \n",
       "guarantees                    0.00       0.0        0.00         1.00  \n",
       "current_accounts              0.00       1.0        1.00         1.00  \n",
       "derivada_account              0.00       0.0        0.00         1.00  \n",
       "payroll_account               0.00       0.0        0.00         1.00  \n",
       "junior_account                0.00       0.0        0.00         1.00  \n",
       "más_particular_account        0.00       0.0        0.00         1.00  \n",
       "particular_account            0.00       0.0        0.00         1.00  \n",
       "particular_plus_account       0.00       0.0        0.00         1.00  \n",
       "shortterm_deposits            0.00       0.0        0.00         1.00  \n",
       "mediumterm_deposits           0.00       0.0        0.00         1.00  \n",
       "longterm_deposits             0.00       0.0        0.00         1.00  \n",
       "e_account                     0.00       0.0        0.00         1.00  \n",
       "funds                         0.00       0.0        0.00         1.00  \n",
       "mortgage                      0.00       0.0        0.00         1.00  \n",
       "pensions_plan                 0.00       0.0        0.00         1.00  \n",
       "loans                         0.00       0.0        0.00         1.00  \n",
       "taxes                         0.00       0.0        0.00         1.00  \n",
       "credit_card                   0.00       0.0        0.00         1.00  \n",
       "securities                    0.00       0.0        0.00         1.00  \n",
       "home_account                  0.00       0.0        0.00         1.00  \n",
       "payroll                       0.00       0.0        0.00         1.00  \n",
       "pensions                      0.00       0.0        0.00         1.00  \n",
       "direct_debit                  0.00       0.0        0.00         1.00  "
      ]
     },
     "execution_count": 13,
     "metadata": {},
     "output_type": "execute_result"
    }
   ],
   "source": [
    "#unique_ids = pd.Series(df['customer_code'].unique())\n",
    "#limit_people = int(1.2e4)\n",
    "#unique_id = unique_ids.sample(n=limit_people)\n",
    "#df = df[df['customer_code'].isin(unique_id)]\n",
    "df.describe().T"
   ]
  },
  {
   "cell_type": "code",
   "execution_count": 14,
   "metadata": {},
   "outputs": [
    {
     "data": {
      "text/plain": [
       "13647309"
      ]
     },
     "execution_count": 14,
     "metadata": {},
     "output_type": "execute_result"
    }
   ],
   "source": [
    "df.shape[0]"
   ]
  },
  {
   "cell_type": "code",
   "execution_count": 15,
   "metadata": {},
   "outputs": [
    {
     "name": "stdout",
     "output_type": "stream",
     "text": [
      "<class 'pandas.core.frame.DataFrame'>\n",
      "RangeIndex: 13647309 entries, 0 to 13647308\n",
      "Data columns (total 48 columns):\n",
      " #   Column                                         Dtype  \n",
      "---  ------                                         -----  \n",
      " 0   date_identifier                                object \n",
      " 1   customer_code                                  int64  \n",
      " 2   employee_index                                 object \n",
      " 3   country_resid                                  object \n",
      " 4   sex                                            object \n",
      " 5   age                                            object \n",
      " 6   date_join                                      object \n",
      " 7   customer_registered_in_last6month              object \n",
      " 8   customer_seniority_month                       object \n",
      " 9   customer_loyalty                               float64\n",
      " 10  last_date_asprimary_customer_ifnot_endofmonth  object \n",
      " 11  customer_type_atbeginningofmonth               object \n",
      " 12  customer_relationtype_atbeginningofmonth       object \n",
      " 13  customer_residence_index                       object \n",
      " 14  customer_foreigner_index                       object \n",
      " 15  spouse_index                                   object \n",
      " 16  channel_used_tojoin                            object \n",
      " 17  customer_dceased                               object \n",
      " 18  address_type                                   float64\n",
      " 19  province_code                                  float64\n",
      " 20  province_name                                  object \n",
      " 21  activity_index                                 float64\n",
      " 22  gross_income_household                         float64\n",
      " 23  customer_segmentation_vip_indiv_colleggrad     object \n",
      " 24  saving_account                                 int64  \n",
      " 25  guarantees                                     int64  \n",
      " 26  current_accounts                               int64  \n",
      " 27  derivada_account                               int64  \n",
      " 28  payroll_account                                int64  \n",
      " 29  junior_account                                 int64  \n",
      " 30  más_particular_account                         int64  \n",
      " 31  particular_account                             int64  \n",
      " 32  particular_plus_account                        int64  \n",
      " 33  shortterm_deposits                             int64  \n",
      " 34  mediumterm_deposits                            int64  \n",
      " 35  longterm_deposits                              int64  \n",
      " 36  e_account                                      int64  \n",
      " 37  funds                                          int64  \n",
      " 38  mortgage                                       int64  \n",
      " 39  pensions_plan                                  int64  \n",
      " 40  loans                                          int64  \n",
      " 41  taxes                                          int64  \n",
      " 42  credit_card                                    int64  \n",
      " 43  securities                                     int64  \n",
      " 44  home_account                                   int64  \n",
      " 45  payroll                                        float64\n",
      " 46  pensions                                       float64\n",
      " 47  direct_debit                                   int64  \n",
      "dtypes: float64(7), int64(23), object(18)\n",
      "memory usage: 4.9+ GB\n"
     ]
    }
   ],
   "source": [
    "df.info()"
   ]
  },
  {
   "cell_type": "markdown",
   "metadata": {},
   "source": [
    "The last month is being used as test data to predict what they buy on top what they have after 2016-05-28. Start of data: 2015-01-28"
   ]
  },
  {
   "cell_type": "code",
   "execution_count": 16,
   "metadata": {},
   "outputs": [],
   "source": [
    "df['date_identifier'] = pd.to_datetime(df.loc[:,'date_identifier'], format=\"%Y-%m-%d\")\n",
    "df['date_join'] = pd.to_datetime(df.loc[:,'date_join'], format=\"%Y-%m-%d\")"
   ]
  },
  {
   "cell_type": "code",
   "execution_count": 17,
   "metadata": {},
   "outputs": [
    {
     "data": {
      "text/plain": [
       "(Timestamp('2015-01-28 00:00:00'), Timestamp('2016-05-28 00:00:00'))"
      ]
     },
     "execution_count": 17,
     "metadata": {},
     "output_type": "execute_result"
    }
   ],
   "source": [
    "np.min(df['date_identifier']), np.max(df['date_identifier'])"
   ]
  },
  {
   "cell_type": "markdown",
   "metadata": {},
   "source": [
    "Creating a month column as the data are on a monthly basis of the product purchased by the customers"
   ]
  },
  {
   "cell_type": "code",
   "execution_count": 18,
   "metadata": {},
   "outputs": [],
   "source": [
    "df['month'] = df.loc[:,'date_identifier'].dt.month"
   ]
  },
  {
   "cell_type": "markdown",
   "metadata": {},
   "source": [
    "converting age colum to a numeric column"
   ]
  },
  {
   "cell_type": "code",
   "execution_count": 19,
   "metadata": {},
   "outputs": [
    {
     "data": {
      "text/plain": [
       "13647309"
      ]
     },
     "execution_count": 19,
     "metadata": {},
     "output_type": "execute_result"
    }
   ],
   "source": [
    "df.shape[0]"
   ]
  },
  {
   "cell_type": "code",
   "execution_count": 20,
   "metadata": {},
   "outputs": [],
   "source": [
    "df['age'] = pd.to_numeric(df['age'], errors='coerce')"
   ]
  },
  {
   "cell_type": "code",
   "execution_count": 21,
   "metadata": {},
   "outputs": [
    {
     "data": {
      "text/plain": [
       "spouse_index                                     99.986752\n",
       "last_date_asprimary_customer_ifnot_endofmonth    99.818330\n",
       "gross_income_household                           20.475648\n",
       "customer_segmentation_vip_indiv_colleggrad        1.387585\n",
       "channel_used_tojoin                               1.363829\n",
       "customer_type_atbeginningofmonth                  1.097513\n",
       "customer_relationtype_atbeginningofmonth          1.097513\n",
       "province_name                                     0.685784\n",
       "province_code                                     0.685784\n",
       "sex                                               0.203732\n",
       "address_type                                      0.203227\n",
       "customer_dceased                                  0.203220\n",
       "activity_index                                    0.203220\n",
       "customer_foreigner_index                          0.203220\n",
       "customer_residence_index                          0.203220\n",
       "customer_loyalty                                  0.203220\n",
       "customer_registered_in_last6month                 0.203220\n",
       "date_join                                         0.203220\n",
       "age                                               0.203220\n",
       "country_resid                                     0.203220\n",
       "employee_index                                    0.203220\n",
       "pensions                                          0.117701\n",
       "payroll                                           0.117701\n",
       "taxes                                             0.000000\n",
       "mortgage                                          0.000000\n",
       "funds                                             0.000000\n",
       "pensions_plan                                     0.000000\n",
       "loans                                             0.000000\n",
       "date_identifier                                   0.000000\n",
       "credit_card                                       0.000000\n",
       "securities                                        0.000000\n",
       "home_account                                      0.000000\n",
       "longterm_deposits                                 0.000000\n",
       "direct_debit                                      0.000000\n",
       "e_account                                         0.000000\n",
       "saving_account                                    0.000000\n",
       "mediumterm_deposits                               0.000000\n",
       "shortterm_deposits                                0.000000\n",
       "particular_plus_account                           0.000000\n",
       "particular_account                                0.000000\n",
       "más_particular_account                            0.000000\n",
       "junior_account                                    0.000000\n",
       "payroll_account                                   0.000000\n",
       "derivada_account                                  0.000000\n",
       "current_accounts                                  0.000000\n",
       "guarantees                                        0.000000\n",
       "customer_code                                     0.000000\n",
       "customer_seniority_month                          0.000000\n",
       "month                                             0.000000\n",
       "dtype: float64"
      ]
     },
     "execution_count": 21,
     "metadata": {},
     "output_type": "execute_result"
    }
   ],
   "source": [
    "missing_percentage = pd.Series(df.isnull().sum() * 100 / df.shape[0])\n",
    "missing_percentage.sort_values(ascending=False)"
   ]
  },
  {
   "cell_type": "markdown",
   "metadata": {},
   "source": [
    "### Age Distribution "
   ]
  },
  {
   "cell_type": "code",
   "execution_count": 22,
   "metadata": {},
   "outputs": [
    {
     "data": {
      "text/plain": [
       "'\\nwith sns.plotting_context(\"notebook\",font_scale=1.5):\\n    sns.set_style(\"whitegrid\")\\n    ax = sns.histplot(df[\"age\"].dropna(),\\n                 bins=80,\\n                 kde=True,\\n                 color=\"tomato\")\\n    ax.lines[0].set_color(\\'blue\\')\\n    plt.title(\"Age Distribution\")\\n    plt.ylabel(\"Count\")\\n\\n'"
      ]
     },
     "execution_count": 22,
     "metadata": {},
     "output_type": "execute_result"
    }
   ],
   "source": [
    "'''\n",
    "with sns.plotting_context(\"notebook\",font_scale=1.5):\n",
    "    sns.set_style(\"whitegrid\")\n",
    "    ax = sns.histplot(df[\"age\"].dropna(),\n",
    "                 bins=80,\n",
    "                 kde=True,\n",
    "                 color=\"tomato\")\n",
    "    ax.lines[0].set_color('blue')\n",
    "    plt.title(\"Age Distribution\")\n",
    "    plt.ylabel(\"Count\")\n",
    "\n",
    "'''"
   ]
  },
  {
   "cell_type": "markdown",
   "metadata": {},
   "source": [
    "As seen in the above figure, there are alot of small and very large ages in the dataset. There are two peaks in the data, one around 20-30 and the other between 40-50. We replace the small ages with average of the ages between 18 and 30 and high ages with means between 30 and 100."
   ]
  },
  {
   "cell_type": "code",
   "execution_count": 23,
   "metadata": {},
   "outputs": [
    {
     "name": "stderr",
     "output_type": "stream",
     "text": [
      "C:\\Users\\srafi\\AppData\\Local\\Temp\\ipykernel_16272\\3540085279.py:3: FutureWarning: A value is trying to be set on a copy of a DataFrame or Series through chained assignment using an inplace method.\n",
      "The behavior will change in pandas 3.0. This inplace method will never work because the intermediate object on which we are setting values always behaves as a copy.\n",
      "\n",
      "For example, when doing 'df[col].method(value, inplace=True)', try using 'df.method({col: value}, inplace=True)' or df[col] = df[col].method(value) instead, to perform the operation inplace on the original object.\n",
      "\n",
      "\n",
      "  df.age.fillna(df.age.mean(), inplace=True)\n"
     ]
    }
   ],
   "source": [
    "df.loc[df.age<18, 'age'] = df.loc[(df.age>=18) & (df.age<=30), 'age'].mean(skipna=True)\n",
    "df.loc[df.age>100, 'age'] = df.loc[(df.age>=30) & (df.age<=100), 'age'].mean(skipna=True)\n",
    "df.age.fillna(df.age.mean(), inplace=True)\n",
    "df.age = df.age.astype(int)"
   ]
  },
  {
   "cell_type": "code",
   "execution_count": 24,
   "metadata": {},
   "outputs": [
    {
     "data": {
      "text/plain": [
       "\"\\ndf.loc[df.age<18, 'age'] = df.loc[(df.age>=18) & (df.age<=30), 'age'].mean(skipna=True)\\ndf.loc[df.age>100, 'age'] = df.loc[(df.age>=30) & (df.age<=100), 'age'].mean(skipna=True)\\ndf.age.fillna(df.age.mean(), inplace=True)\\ndf.age = df.age.astype(int)\\n\""
      ]
     },
     "execution_count": 24,
     "metadata": {},
     "output_type": "execute_result"
    }
   ],
   "source": [
    "'''\n",
    "df.loc[df.age<18, 'age'] = df.loc[(df.age>=18) & (df.age<=30), 'age'].mean(skipna=True)\n",
    "df.loc[df.age>100, 'age'] = df.loc[(df.age>=30) & (df.age<=100), 'age'].mean(skipna=True)\n",
    "df.age.fillna(df.age.mean(), inplace=True)\n",
    "df.age = df.age.astype(int)\n",
    "'''"
   ]
  },
  {
   "cell_type": "code",
   "execution_count": 25,
   "metadata": {},
   "outputs": [
    {
     "data": {
      "text/plain": [
       "'\\nwith sns.plotting_context(\"notebook\",font_scale=1.5):\\n    sns.set_style(\"whitegrid\")\\n    ax = sns.histplot(df[\"age\"].dropna(),\\n                 bins=80,\\n                 kde=True,\\n                 color=\"tomato\")\\n    ax.lines[0].set_color(\\'blue\\')\\n    plt.title(\"Age Distribution\")\\n    plt.ylabel(\"Count\")\\n    '"
      ]
     },
     "execution_count": 25,
     "metadata": {},
     "output_type": "execute_result"
    }
   ],
   "source": [
    "'''\n",
    "with sns.plotting_context(\"notebook\",font_scale=1.5):\n",
    "    sns.set_style(\"whitegrid\")\n",
    "    ax = sns.histplot(df[\"age\"].dropna(),\n",
    "                 bins=80,\n",
    "                 kde=True,\n",
    "                 color=\"tomato\")\n",
    "    ax.lines[0].set_color('blue')\n",
    "    plt.title(\"Age Distribution\")\n",
    "    plt.ylabel(\"Count\")\n",
    "    '''"
   ]
  },
  {
   "cell_type": "markdown",
   "metadata": {},
   "source": [
    "### New Customer or Not?"
   ]
  },
  {
   "cell_type": "code",
   "execution_count": 26,
   "metadata": {},
   "outputs": [
    {
     "data": {
      "text/plain": [
       "customer_registered_in_last6month\n",
       " 0     93.85270\n",
       " 1      5.94408\n",
       "NaN     0.20322\n",
       "Name: count, dtype: float64"
      ]
     },
     "execution_count": 26,
     "metadata": {},
     "output_type": "execute_result"
    }
   ],
   "source": [
    "df['customer_registered_in_last6month'].value_counts(dropna=False) * 100 / df.shape[0]"
   ]
  },
  {
   "cell_type": "markdown",
   "metadata": {},
   "source": [
    "only less than 0.2% of the data are null for registration within last 6 months."
   ]
  },
  {
   "cell_type": "code",
   "execution_count": 27,
   "metadata": {},
   "outputs": [],
   "source": [
    "df.customer_registered_in_last6month = pd.to_numeric(df.customer_registered_in_last6month,errors=\"coerce\")"
   ]
  },
  {
   "cell_type": "code",
   "execution_count": 28,
   "metadata": {},
   "outputs": [
    {
     "data": {
      "text/plain": [
       "customer_code\n",
       "1050741    2\n",
       "1051017    2\n",
       "1051064    4\n",
       "1051387    3\n",
       "1048660    5\n",
       "          ..\n",
       "618245     1\n",
       "553680     2\n",
       "1125581    1\n",
       "1401509    1\n",
       "429713     1\n",
       "Length: 7340, dtype: int64"
      ]
     },
     "execution_count": 28,
     "metadata": {},
     "output_type": "execute_result"
    }
   ],
   "source": [
    "null_registed_in6m = df.loc[df['customer_registered_in_last6month'].isnull(),:].groupby('customer_code', sort=False).size()\n",
    "null_registed_in6m"
   ]
  },
  {
   "cell_type": "code",
   "execution_count": 29,
   "metadata": {},
   "outputs": [
    {
     "data": {
      "text/plain": [
       "6"
      ]
     },
     "execution_count": 29,
     "metadata": {},
     "output_type": "execute_result"
    }
   ],
   "source": [
    "null_registed_in6m.max()"
   ]
  },
  {
   "cell_type": "code",
   "execution_count": 30,
   "metadata": {},
   "outputs": [
    {
     "data": {
      "text/plain": [
       "<DatetimeArray>\n",
       "['NaT']\n",
       "Length: 1, dtype: datetime64[ns]"
      ]
     },
     "execution_count": 30,
     "metadata": {},
     "output_type": "execute_result"
    }
   ],
   "source": [
    "# are they new customers?\n",
    "df.loc[df['customer_registered_in_last6month'].isnull(),\"date_join\"].unique()"
   ]
  },
  {
   "cell_type": "markdown",
   "metadata": {},
   "source": [
    "it seems the date of join is null for these customers. How we can know that when these customers joined. It can be found through their first product. If that is within last 6 months, it means that they are new customers. Let's look at their seniority too."
   ]
  },
  {
   "cell_type": "code",
   "execution_count": 31,
   "metadata": {},
   "outputs": [
    {
     "data": {
      "text/plain": [
       "array(['     NA'], dtype=object)"
      ]
     },
     "execution_count": 31,
     "metadata": {},
     "output_type": "execute_result"
    }
   ],
   "source": [
    "df.loc[df['customer_registered_in_last6month'].isnull(),'customer_seniority_month'].unique()"
   ]
  },
  {
   "cell_type": "markdown",
   "metadata": {},
   "source": [
    "Hmm, their seniority in months is also null! To be considered as registered within the last 6 months, we considere any customer who has purchased a product on or after 2016-01-28."
   ]
  },
  {
   "cell_type": "code",
   "execution_count": 32,
   "metadata": {},
   "outputs": [],
   "source": [
    "mask = df.groupby('customer_code')['date_identifier'].min() <= \"2016-01-28\"\n",
    "custcode_buying_last6m = mask.index.to_list()"
   ]
  },
  {
   "cell_type": "markdown",
   "metadata": {},
   "source": [
    "those customers who have null and have their customer code in the custcode_buying_last6m will receive 1 for the column of customer_registered_in_last6month otherwise, they'll get 0."
   ]
  },
  {
   "cell_type": "code",
   "execution_count": 33,
   "metadata": {},
   "outputs": [],
   "source": [
    "df.loc[(df['customer_registered_in_last6month'].isnull() & df['customer_code'].isin(custcode_buying_last6m)),\n",
    "                     'customer_registered_in_last6month'] = 1"
   ]
  },
  {
   "cell_type": "code",
   "execution_count": 34,
   "metadata": {},
   "outputs": [
    {
     "data": {
      "text/plain": [
       "0"
      ]
     },
     "execution_count": 34,
     "metadata": {},
     "output_type": "execute_result"
    }
   ],
   "source": [
    "df['customer_registered_in_last6month'].isnull().sum()"
   ]
  },
  {
   "cell_type": "markdown",
   "metadata": {},
   "source": [
    "it seemed that all the null values were for those joined within 6 months! "
   ]
  },
  {
   "cell_type": "code",
   "execution_count": 35,
   "metadata": {},
   "outputs": [
    {
     "data": {
      "text/plain": [
       "array([0., 1.])"
      ]
     },
     "execution_count": 35,
     "metadata": {},
     "output_type": "execute_result"
    }
   ],
   "source": [
    "df['customer_registered_in_last6month'].unique()"
   ]
  },
  {
   "cell_type": "markdown",
   "metadata": {},
   "source": [
    "### Customer Seniority in Months"
   ]
  },
  {
   "cell_type": "code",
   "execution_count": 36,
   "metadata": {},
   "outputs": [
    {
     "data": {
      "text/plain": [
       "27734"
      ]
     },
     "execution_count": 36,
     "metadata": {},
     "output_type": "execute_result"
    }
   ],
   "source": [
    "df.customer_seniority_month = pd.to_numeric(df.customer_seniority_month,errors=\"coerce\")\n",
    "np.sum(df[\"customer_seniority_month\"].isnull())"
   ]
  },
  {
   "cell_type": "code",
   "execution_count": 37,
   "metadata": {},
   "outputs": [
    {
     "data": {
      "text/plain": [
       "array([1.])"
      ]
     },
     "execution_count": 37,
     "metadata": {},
     "output_type": "execute_result"
    }
   ],
   "source": [
    "# Are these new people?\n",
    "df.loc[df['customer_seniority_month'].isnull(), 'customer_registered_in_last6month'].unique()"
   ]
  },
  {
   "cell_type": "markdown",
   "metadata": {},
   "source": [
    "As these are new customers, we give them the minimum seniority, i.e. 0."
   ]
  },
  {
   "cell_type": "code",
   "execution_count": 38,
   "metadata": {},
   "outputs": [],
   "source": [
    "df.loc[df['customer_seniority_month'].isnull(), 'customer_seniority_month'] = df['customer_seniority_month'].min()"
   ]
  },
  {
   "cell_type": "code",
   "execution_count": 39,
   "metadata": {},
   "outputs": [
    {
     "data": {
      "text/plain": [
       "0"
      ]
     },
     "execution_count": 39,
     "metadata": {},
     "output_type": "execute_result"
    }
   ],
   "source": [
    "df['customer_seniority_month'].isnull().sum()"
   ]
  },
  {
   "cell_type": "markdown",
   "metadata": {},
   "source": [
    "### Date of Join"
   ]
  },
  {
   "cell_type": "code",
   "execution_count": 40,
   "metadata": {},
   "outputs": [],
   "source": [
    "df['date_join'] = pd.to_datetime(df['date_join'])"
   ]
  },
  {
   "cell_type": "code",
   "execution_count": 41,
   "metadata": {},
   "outputs": [
    {
     "data": {
      "text/plain": [
       "27734"
      ]
     },
     "execution_count": 41,
     "metadata": {},
     "output_type": "execute_result"
    }
   ],
   "source": [
    "df['date_join'].isnull().sum()"
   ]
  },
  {
   "cell_type": "markdown",
   "metadata": {},
   "source": [
    "Isn't it the same number that keeps repeating? These are new customers "
   ]
  },
  {
   "cell_type": "code",
   "execution_count": 42,
   "metadata": {},
   "outputs": [],
   "source": [
    "df.loc[df['date_join'].isnull(),'date_join'] = df['date_join'].median()"
   ]
  },
  {
   "cell_type": "code",
   "execution_count": 43,
   "metadata": {},
   "outputs": [
    {
     "data": {
      "text/plain": [
       "0"
      ]
     },
     "execution_count": 43,
     "metadata": {},
     "output_type": "execute_result"
    }
   ],
   "source": [
    "df['date_join'].isnull().sum()"
   ]
  },
  {
   "cell_type": "markdown",
   "metadata": {},
   "source": [
    "### customer_loyalty\n",
    "1 (First/Primary), 99 (Primary customer during the month but not at the end of the month)"
   ]
  },
  {
   "cell_type": "code",
   "execution_count": 44,
   "metadata": {},
   "outputs": [
    {
     "data": {
      "text/plain": [
       "27734"
      ]
     },
     "execution_count": 44,
     "metadata": {},
     "output_type": "execute_result"
    }
   ],
   "source": [
    "df['customer_loyalty'].isnull().sum()"
   ]
  },
  {
   "cell_type": "code",
   "execution_count": 45,
   "metadata": {},
   "outputs": [
    {
     "data": {
      "text/plain": [
       "customer_loyalty\n",
       "1.0     13594782\n",
       "99.0       24793\n",
       "Name: count, dtype: int64"
      ]
     },
     "execution_count": 45,
     "metadata": {},
     "output_type": "execute_result"
    }
   ],
   "source": [
    "df['customer_loyalty'].value_counts()"
   ]
  },
  {
   "cell_type": "code",
   "execution_count": 46,
   "metadata": {},
   "outputs": [],
   "source": [
    "df.loc[df['customer_loyalty'].isnull(), 'customer_loyalty'] = 1"
   ]
  },
  {
   "cell_type": "markdown",
   "metadata": {},
   "source": [
    "### Province data"
   ]
  },
  {
   "cell_type": "code",
   "execution_count": 47,
   "metadata": {},
   "outputs": [
    {
     "data": {
      "text/plain": [
       "(27735, array([ 1., nan]))"
      ]
     },
     "execution_count": 47,
     "metadata": {},
     "output_type": "execute_result"
    }
   ],
   "source": [
    "# address_type\n",
    "df['address_type'].isnull().sum(), df['address_type'].unique()"
   ]
  },
  {
   "cell_type": "code",
   "execution_count": 48,
   "metadata": {},
   "outputs": [
    {
     "data": {
      "text/plain": [
       "(93591,\n",
       " array([29., 13., 50., 45., 24., 20., 10., 17., 49.,  8., 37.,  9., 22.,\n",
       "        31.,  5., 40., 27., 25., 28.,  3., 42., 41., 39.,  7., 47., 36.,\n",
       "        46., 44., 15., 32., 23., 16., 48., 12., 26.,  2.,  6., 30., 11.,\n",
       "        nan,  4., 19., 34., 35., 14., 21., 18., 33., 38., 52., 43.,  1.,\n",
       "        51.]))"
      ]
     },
     "execution_count": 48,
     "metadata": {},
     "output_type": "execute_result"
    }
   ],
   "source": [
    "# province_code\n",
    "df['province_code'].isnull().sum(), df['province_code'].unique()"
   ]
  },
  {
   "cell_type": "markdown",
   "metadata": {},
   "source": [
    "Because the province name is given, we can drop these two columns"
   ]
  },
  {
   "cell_type": "code",
   "execution_count": 49,
   "metadata": {},
   "outputs": [],
   "source": [
    "df.drop(['address_type', 'province_code'], axis=1, inplace=True)"
   ]
  },
  {
   "cell_type": "markdown",
   "metadata": {},
   "source": [
    "### Is the client still active?"
   ]
  },
  {
   "cell_type": "code",
   "execution_count": 50,
   "metadata": {},
   "outputs": [
    {
     "data": {
      "text/plain": [
       "array([ 1.,  0., nan])"
      ]
     },
     "execution_count": 50,
     "metadata": {},
     "output_type": "execute_result"
    }
   ],
   "source": [
    "df['activity_index'].unique()"
   ]
  },
  {
   "cell_type": "code",
   "execution_count": 51,
   "metadata": {},
   "outputs": [
    {
     "data": {
      "text/plain": [
       "27734"
      ]
     },
     "execution_count": 51,
     "metadata": {},
     "output_type": "execute_result"
    }
   ],
   "source": [
    "df['activity_index'].isnull().sum()"
   ]
  },
  {
   "cell_type": "code",
   "execution_count": 52,
   "metadata": {},
   "outputs": [
    {
     "data": {
      "text/plain": [
       "activity_index\n",
       "0.0    7384390\n",
       "1.0    6235185\n",
       "Name: count, dtype: int64"
      ]
     },
     "execution_count": 52,
     "metadata": {},
     "output_type": "execute_result"
    }
   ],
   "source": [
    "df['activity_index'].value_counts()"
   ]
  },
  {
   "cell_type": "code",
   "execution_count": 53,
   "metadata": {},
   "outputs": [
    {
     "data": {
      "text/plain": [
       "261       2015-01-28\n",
       "442435    2015-01-28\n",
       "442399    2015-01-28\n",
       "441951    2015-01-28\n",
       "441833    2015-01-28\n",
       "             ...    \n",
       "3544890   2015-06-28\n",
       "3544867   2015-06-28\n",
       "3544790   2015-06-28\n",
       "3547105   2015-06-28\n",
       "3776332   2015-06-28\n",
       "Name: date_identifier, Length: 27734, dtype: datetime64[ns]"
      ]
     },
     "execution_count": 53,
     "metadata": {},
     "output_type": "execute_result"
    }
   ],
   "source": [
    "df.loc[df['activity_index'].isnull(), 'date_identifier'].sort_values()"
   ]
  },
  {
   "cell_type": "markdown",
   "metadata": {},
   "source": [
    "it seems the most of the customers with null values in their activity index have had products in the first 6 months of the dataset. Who are these customers?"
   ]
  },
  {
   "cell_type": "code",
   "execution_count": 54,
   "metadata": {},
   "outputs": [],
   "source": [
    "customeer_code = np.sort(df.loc[df['activity_index'].isnull(),'customer_code'].unique())\n"
   ]
  },
  {
   "cell_type": "code",
   "execution_count": 55,
   "metadata": {},
   "outputs": [
    {
     "data": {
      "text/plain": [
       "7340"
      ]
     },
     "execution_count": 55,
     "metadata": {},
     "output_type": "execute_result"
    }
   ],
   "source": [
    "len(customeer_code)"
   ]
  },
  {
   "cell_type": "markdown",
   "metadata": {},
   "source": [
    "This is the number of customer codes (unique) where the activity index is null. Let's find if there are IDs from this list that they have not null values. "
   ]
  },
  {
   "cell_type": "code",
   "execution_count": 56,
   "metadata": {},
   "outputs": [],
   "source": [
    "some_cust_notnull_index = df.loc[(df.customer_code.isin(customeer_code)) & (df['activity_index'].notnull())].sort_values(by='date_identifier', \n",
    "                             ascending=False).groupby(['customer_code']).first()[['date_identifier', 'activity_index']]"
   ]
  },
  {
   "cell_type": "code",
   "execution_count": 57,
   "metadata": {},
   "outputs": [
    {
     "data": {
      "text/plain": [
       "309"
      ]
     },
     "execution_count": 57,
     "metadata": {},
     "output_type": "execute_result"
    }
   ],
   "source": [
    "some_cust_notnull_index.shape[0]"
   ]
  },
  {
   "cell_type": "code",
   "execution_count": 58,
   "metadata": {},
   "outputs": [
    {
     "data": {
      "text/html": [
       "<div>\n",
       "<style scoped>\n",
       "    .dataframe tbody tr th:only-of-type {\n",
       "        vertical-align: middle;\n",
       "    }\n",
       "\n",
       "    .dataframe tbody tr th {\n",
       "        vertical-align: top;\n",
       "    }\n",
       "\n",
       "    .dataframe thead th {\n",
       "        text-align: right;\n",
       "    }\n",
       "</style>\n",
       "<table border=\"1\" class=\"dataframe\">\n",
       "  <thead>\n",
       "    <tr style=\"text-align: right;\">\n",
       "      <th></th>\n",
       "      <th>date_identifier</th>\n",
       "      <th>activity_index</th>\n",
       "    </tr>\n",
       "    <tr>\n",
       "      <th>customer_code</th>\n",
       "      <th></th>\n",
       "      <th></th>\n",
       "    </tr>\n",
       "  </thead>\n",
       "  <tbody>\n",
       "    <tr>\n",
       "      <th>35152</th>\n",
       "      <td>2016-05-28</td>\n",
       "      <td>1.0</td>\n",
       "    </tr>\n",
       "    <tr>\n",
       "      <th>41449</th>\n",
       "      <td>2016-05-28</td>\n",
       "      <td>1.0</td>\n",
       "    </tr>\n",
       "    <tr>\n",
       "      <th>48623</th>\n",
       "      <td>2016-05-28</td>\n",
       "      <td>1.0</td>\n",
       "    </tr>\n",
       "    <tr>\n",
       "      <th>53148</th>\n",
       "      <td>2016-05-28</td>\n",
       "      <td>1.0</td>\n",
       "    </tr>\n",
       "    <tr>\n",
       "      <th>58520</th>\n",
       "      <td>2016-05-28</td>\n",
       "      <td>1.0</td>\n",
       "    </tr>\n",
       "  </tbody>\n",
       "</table>\n",
       "</div>"
      ],
      "text/plain": [
       "              date_identifier  activity_index\n",
       "customer_code                                \n",
       "35152              2016-05-28             1.0\n",
       "41449              2016-05-28             1.0\n",
       "48623              2016-05-28             1.0\n",
       "53148              2016-05-28             1.0\n",
       "58520              2016-05-28             1.0"
      ]
     },
     "execution_count": 58,
     "metadata": {},
     "output_type": "execute_result"
    }
   ],
   "source": [
    "some_cust_notnull_index.head()"
   ]
  },
  {
   "cell_type": "markdown",
   "metadata": {},
   "source": [
    "only 309 IDs have not null values. Lets match their most recent activity index found above for their null values. "
   ]
  },
  {
   "cell_type": "code",
   "execution_count": 59,
   "metadata": {},
   "outputs": [],
   "source": [
    "dff = df.copy()"
   ]
  },
  {
   "cell_type": "code",
   "execution_count": 60,
   "metadata": {},
   "outputs": [],
   "source": [
    "dff['activity_index'] = dff['customer_code'].map(some_cust_notnull_index['activity_index']).fillna(dff['activity_index']) "
   ]
  },
  {
   "cell_type": "code",
   "execution_count": 61,
   "metadata": {},
   "outputs": [
    {
     "data": {
      "text/plain": [
       "7031"
      ]
     },
     "execution_count": 61,
     "metadata": {},
     "output_type": "execute_result"
    }
   ],
   "source": [
    "np.sort(dff.loc[dff['activity_index'].isnull(),'customer_code'].unique()).shape[0]"
   ]
  },
  {
   "cell_type": "markdown",
   "metadata": {},
   "source": [
    "Now we see that 309 customer codes are less! For the rest of customers, we don't have any clues, so we replace those with the median of activity index."
   ]
  },
  {
   "cell_type": "code",
   "execution_count": 62,
   "metadata": {},
   "outputs": [],
   "source": [
    "dff.loc[dff.activity_index.isnull(),\"activity_index\"] = dff[\"activity_index\"].median()"
   ]
  },
  {
   "cell_type": "code",
   "execution_count": 63,
   "metadata": {},
   "outputs": [
    {
     "data": {
      "text/plain": [
       "0"
      ]
     },
     "execution_count": 63,
     "metadata": {},
     "output_type": "execute_result"
    }
   ],
   "source": [
    "dff['activity_index'].isnull().sum()"
   ]
  },
  {
   "cell_type": "markdown",
   "metadata": {},
   "source": [
    "### Province name"
   ]
  },
  {
   "cell_type": "markdown",
   "metadata": {},
   "source": [
    "There are some misspeling as well as null values."
   ]
  },
  {
   "cell_type": "code",
   "execution_count": 64,
   "metadata": {},
   "outputs": [
    {
     "data": {
      "text/plain": [
       "93591"
      ]
     },
     "execution_count": 64,
     "metadata": {},
     "output_type": "execute_result"
    }
   ],
   "source": [
    "dff.province_name.isnull().sum()"
   ]
  },
  {
   "cell_type": "code",
   "execution_count": 65,
   "metadata": {},
   "outputs": [
    {
     "data": {
      "text/plain": [
       "array(['MALAGA', 'CIUDAD REAL', 'ZARAGOZA', 'TOLEDO', 'LEON', 'GIPUZKOA',\n",
       "       'CACERES', 'GIRONA', 'ZAMORA', 'BARCELONA', 'SALAMANCA', 'BURGOS',\n",
       "       'HUESCA', 'NAVARRA', 'AVILA', 'SEGOVIA', 'LUGO', 'LERIDA',\n",
       "       'MADRID', 'ALICANTE', 'SORIA', 'SEVILLA', 'CANTABRIA',\n",
       "       'BALEARS, ILLES', 'VALLADOLID', 'PONTEVEDRA', 'VALENCIA', 'TERUEL',\n",
       "       'CORUÑA, A', 'OURENSE', 'JAEN', 'CUENCA', 'BIZKAIA', 'CASTELLON',\n",
       "       'RIOJA, LA', 'ALBACETE', 'BADAJOZ', 'MURCIA', 'CADIZ', nan,\n",
       "       'ALMERIA', 'GUADALAJARA', 'PALENCIA', 'PALMAS, LAS', 'CORDOBA',\n",
       "       'HUELVA', 'GRANADA', 'ASTURIAS', 'SANTA CRUZ DE TENERIFE',\n",
       "       'MELILLA', 'TARRAGONA', 'ALAVA', 'CEUTA'], dtype=object)"
      ]
     },
     "execution_count": 65,
     "metadata": {},
     "output_type": "execute_result"
    }
   ],
   "source": [
    "dff.province_name.unique()"
   ]
  },
  {
   "cell_type": "code",
   "execution_count": 66,
   "metadata": {},
   "outputs": [],
   "source": [
    "dff.loc[dff.province_name==\"CORU\\xc3\\x91A, A\",\"province_name\"] = \"CORUNA, A\""
   ]
  },
  {
   "cell_type": "markdown",
   "metadata": {},
   "source": [
    "For null values we create the following category:"
   ]
  },
  {
   "cell_type": "code",
   "execution_count": 67,
   "metadata": {},
   "outputs": [],
   "source": [
    "dff.loc[dff.province_name.isnull(),\"province_name\"] = \"UNKNOWN\""
   ]
  },
  {
   "cell_type": "markdown",
   "metadata": {},
   "source": [
    "### gross_income_household"
   ]
  },
  {
   "cell_type": "code",
   "execution_count": 68,
   "metadata": {},
   "outputs": [
    {
     "data": {
      "text/plain": [
       "2794375"
      ]
     },
     "execution_count": 68,
     "metadata": {},
     "output_type": "execute_result"
    }
   ],
   "source": [
    "dff['gross_income_household'].isnull().sum()"
   ]
  },
  {
   "cell_type": "markdown",
   "metadata": {},
   "source": [
    "Let's regionize these income values as replacing the null values with median income of all provinces is not good."
   ]
  },
  {
   "cell_type": "code",
   "execution_count": 69,
   "metadata": {},
   "outputs": [
    {
     "name": "stderr",
     "output_type": "stream",
     "text": [
      "C:\\Users\\srafi\\AppData\\Local\\Temp\\ipykernel_16272\\3520925909.py:1: FutureWarning: The provided callable <function median at 0x00000221B64A56C0> is currently using SeriesGroupBy.median. In a future version of pandas, the provided callable will be used directly. To keep current behavior pass the string \"median\" instead.\n",
      "  median_income_province= dff.groupby('province_name').agg(median_income=('gross_income_household',np.median)).reset_index()\n"
     ]
    }
   ],
   "source": [
    "median_income_province= dff.groupby('province_name').agg(median_income=('gross_income_household',np.median)).reset_index()"
   ]
  },
  {
   "cell_type": "code",
   "execution_count": 70,
   "metadata": {},
   "outputs": [
    {
     "data": {
      "text/html": [
       "<div>\n",
       "<style scoped>\n",
       "    .dataframe tbody tr th:only-of-type {\n",
       "        vertical-align: middle;\n",
       "    }\n",
       "\n",
       "    .dataframe tbody tr th {\n",
       "        vertical-align: top;\n",
       "    }\n",
       "\n",
       "    .dataframe thead th {\n",
       "        text-align: right;\n",
       "    }\n",
       "</style>\n",
       "<table border=\"1\" class=\"dataframe\">\n",
       "  <thead>\n",
       "    <tr style=\"text-align: right;\">\n",
       "      <th></th>\n",
       "      <th>province_name</th>\n",
       "      <th>median_income</th>\n",
       "    </tr>\n",
       "  </thead>\n",
       "  <tbody>\n",
       "    <tr>\n",
       "      <th>0</th>\n",
       "      <td>ALAVA</td>\n",
       "      <td>96967.65</td>\n",
       "    </tr>\n",
       "    <tr>\n",
       "      <th>1</th>\n",
       "      <td>ALBACETE</td>\n",
       "      <td>78657.30</td>\n",
       "    </tr>\n",
       "    <tr>\n",
       "      <th>2</th>\n",
       "      <td>ALICANTE</td>\n",
       "      <td>67526.28</td>\n",
       "    </tr>\n",
       "    <tr>\n",
       "      <th>3</th>\n",
       "      <td>ALMERIA</td>\n",
       "      <td>73390.65</td>\n",
       "    </tr>\n",
       "    <tr>\n",
       "      <th>4</th>\n",
       "      <td>ASTURIAS</td>\n",
       "      <td>87199.38</td>\n",
       "    </tr>\n",
       "  </tbody>\n",
       "</table>\n",
       "</div>"
      ],
      "text/plain": [
       "  province_name  median_income\n",
       "0         ALAVA       96967.65\n",
       "1      ALBACETE       78657.30\n",
       "2      ALICANTE       67526.28\n",
       "3       ALMERIA       73390.65\n",
       "4      ASTURIAS       87199.38"
      ]
     },
     "execution_count": 70,
     "metadata": {},
     "output_type": "execute_result"
    }
   ],
   "source": [
    "median_income_province.head()"
   ]
  },
  {
   "cell_type": "code",
   "execution_count": 71,
   "metadata": {},
   "outputs": [],
   "source": [
    "# replacing null values of a region with the corresponsing not null values in the same region\n",
    "df_null_income = dff.loc[dff['gross_income_household'].isnull(),:]\n",
    "merged_df = pd.merge(df_null_income, median_income_province, on='province_name', how='inner')"
   ]
  },
  {
   "cell_type": "code",
   "execution_count": 72,
   "metadata": {},
   "outputs": [
    {
     "data": {
      "text/plain": [
       "2794375"
      ]
     },
     "execution_count": 72,
     "metadata": {},
     "output_type": "execute_result"
    }
   ],
   "source": [
    "merged_df.gross_income_household.isnull().sum()"
   ]
  },
  {
   "cell_type": "code",
   "execution_count": 73,
   "metadata": {},
   "outputs": [],
   "source": [
    "merged_df.gross_income_household = merged_df.median_income"
   ]
  },
  {
   "cell_type": "code",
   "execution_count": 74,
   "metadata": {},
   "outputs": [
    {
     "data": {
      "text/plain": [
       "0"
      ]
     },
     "execution_count": 74,
     "metadata": {},
     "output_type": "execute_result"
    }
   ],
   "source": [
    "merged_df.gross_income_household.isnull().sum()"
   ]
  },
  {
   "cell_type": "markdown",
   "metadata": {},
   "source": [
    "now let's replace the null values in the main dff with these values"
   ]
  },
  {
   "cell_type": "code",
   "execution_count": 75,
   "metadata": {},
   "outputs": [],
   "source": [
    "dff['gross_income_household'] = dff['customer_code'].map(merged_df['gross_income_household']).fillna(dff['gross_income_household'])"
   ]
  },
  {
   "cell_type": "code",
   "execution_count": 76,
   "metadata": {},
   "outputs": [
    {
     "data": {
      "text/plain": [
       "0"
      ]
     },
     "execution_count": 76,
     "metadata": {},
     "output_type": "execute_result"
    }
   ],
   "source": [
    "dff.gross_income_household.isnull().sum()"
   ]
  },
  {
   "cell_type": "markdown",
   "metadata": {},
   "source": [
    "### Spouse_index"
   ]
  },
  {
   "cell_type": "markdown",
   "metadata": {},
   "source": [
    "Let's see null values by now. from the following seris, spouse_index, and last_date_asprimary_customer_ifnot_endofmonth, so let's get rid of these two columns."
   ]
  },
  {
   "cell_type": "code",
   "execution_count": 77,
   "metadata": {},
   "outputs": [
    {
     "data": {
      "text/plain": [
       "spouse_index                                     99.986752\n",
       "last_date_asprimary_customer_ifnot_endofmonth    99.818330\n",
       "customer_segmentation_vip_indiv_colleggrad        1.387585\n",
       "channel_used_tojoin                               1.363829\n",
       "customer_relationtype_atbeginningofmonth          1.097513\n",
       "customer_type_atbeginningofmonth                  1.097513\n",
       "sex                                               0.203732\n",
       "customer_dceased                                  0.203220\n",
       "customer_residence_index                          0.203220\n",
       "customer_foreigner_index                          0.203220\n",
       "country_resid                                     0.203220\n",
       "employee_index                                    0.203220\n",
       "payroll                                           0.117701\n",
       "pensions                                          0.117701\n",
       "e_account                                         0.000000\n",
       "longterm_deposits                                 0.000000\n",
       "funds                                             0.000000\n",
       "mediumterm_deposits                               0.000000\n",
       "mortgage                                          0.000000\n",
       "pensions_plan                                     0.000000\n",
       "date_identifier                                   0.000000\n",
       "loans                                             0.000000\n",
       "taxes                                             0.000000\n",
       "credit_card                                       0.000000\n",
       "particular_plus_account                           0.000000\n",
       "securities                                        0.000000\n",
       "home_account                                      0.000000\n",
       "direct_debit                                      0.000000\n",
       "shortterm_deposits                                0.000000\n",
       "guarantees                                        0.000000\n",
       "particular_account                                0.000000\n",
       "activity_index                                    0.000000\n",
       "age                                               0.000000\n",
       "date_join                                         0.000000\n",
       "customer_registered_in_last6month                 0.000000\n",
       "customer_seniority_month                          0.000000\n",
       "customer_loyalty                                  0.000000\n",
       "province_name                                     0.000000\n",
       "gross_income_household                            0.000000\n",
       "más_particular_account                            0.000000\n",
       "saving_account                                    0.000000\n",
       "customer_code                                     0.000000\n",
       "current_accounts                                  0.000000\n",
       "derivada_account                                  0.000000\n",
       "payroll_account                                   0.000000\n",
       "junior_account                                    0.000000\n",
       "month                                             0.000000\n",
       "dtype: float64"
      ]
     },
     "execution_count": 77,
     "metadata": {},
     "output_type": "execute_result"
    }
   ],
   "source": [
    "dff.isnull().sum().sort_values(ascending=False) * 100 / dff.shape[0]"
   ]
  },
  {
   "cell_type": "code",
   "execution_count": 78,
   "metadata": {},
   "outputs": [
    {
     "data": {
      "text/plain": [
       "509         1050477\n",
       "2061        1049899\n",
       "2624        1056267\n",
       "4306        1054640\n",
       "5451        1043896\n",
       "             ...   \n",
       "13642560    1173310\n",
       "13642579    1173326\n",
       "13645001    1164053\n",
       "13646037    1168303\n",
       "13646286    1168041\n",
       "Name: customer_code, Length: 24793, dtype: int64"
      ]
     },
     "execution_count": 78,
     "metadata": {},
     "output_type": "execute_result"
    }
   ],
   "source": [
    "df.loc[df['last_date_asprimary_customer_ifnot_endofmonth'].notnull(),'customer_code']"
   ]
  },
  {
   "cell_type": "code",
   "execution_count": 79,
   "metadata": {},
   "outputs": [],
   "source": [
    "dff.drop(['spouse_index', 'last_date_asprimary_customer_ifnot_endofmonth'], axis=1, inplace=True)"
   ]
  },
  {
   "cell_type": "code",
   "execution_count": 81,
   "metadata": {},
   "outputs": [
    {
     "data": {
      "text/plain": [
       "customer_segmentation_vip_indiv_colleggrad    189368\n",
       "channel_used_tojoin                           186126\n",
       "customer_type_atbeginningofmonth              149781\n",
       "customer_relationtype_atbeginningofmonth      149781\n",
       "sex                                            27804\n",
       "customer_foreigner_index                       27734\n",
       "employee_index                                 27734\n",
       "country_resid                                  27734\n",
       "customer_dceased                               27734\n",
       "customer_residence_index                       27734\n",
       "pensions                                       16063\n",
       "payroll                                        16063\n",
       "mortgage                                           0\n",
       "e_account                                          0\n",
       "funds                                              0\n",
       "longterm_deposits                                  0\n",
       "mediumterm_deposits                                0\n",
       "pensions_plan                                      0\n",
       "date_identifier                                    0\n",
       "loans                                              0\n",
       "taxes                                              0\n",
       "credit_card                                        0\n",
       "particular_plus_account                            0\n",
       "securities                                         0\n",
       "home_account                                       0\n",
       "direct_debit                                       0\n",
       "shortterm_deposits                                 0\n",
       "current_accounts                                   0\n",
       "particular_account                                 0\n",
       "activity_index                                     0\n",
       "age                                                0\n",
       "date_join                                          0\n",
       "customer_registered_in_last6month                  0\n",
       "customer_seniority_month                           0\n",
       "customer_loyalty                                   0\n",
       "province_name                                      0\n",
       "gross_income_household                             0\n",
       "más_particular_account                             0\n",
       "saving_account                                     0\n",
       "guarantees                                         0\n",
       "customer_code                                      0\n",
       "derivada_account                                   0\n",
       "payroll_account                                    0\n",
       "junior_account                                     0\n",
       "month                                              0\n",
       "dtype: int64"
      ]
     },
     "execution_count": 81,
     "metadata": {},
     "output_type": "execute_result"
    }
   ],
   "source": [
    "dff.isnull().sum().sort_values(ascending=False)"
   ]
  },
  {
   "cell_type": "markdown",
   "metadata": {},
   "source": [
    "### Payroll "
   ]
  },
  {
   "cell_type": "code",
   "execution_count": 82,
   "metadata": {},
   "outputs": [
    {
     "data": {
      "text/plain": [
       "16063"
      ]
     },
     "execution_count": 82,
     "metadata": {},
     "output_type": "execute_result"
    }
   ],
   "source": [
    "dff.payroll.isnull().sum()"
   ]
  },
  {
   "cell_type": "code",
   "execution_count": 83,
   "metadata": {},
   "outputs": [
    {
     "data": {
      "text/plain": [
       "array([ 0.,  1., nan])"
      ]
     },
     "execution_count": 83,
     "metadata": {},
     "output_type": "execute_result"
    }
   ],
   "source": [
    "dff.payroll.unique()"
   ]
  },
  {
   "cell_type": "code",
   "execution_count": 84,
   "metadata": {},
   "outputs": [
    {
     "data": {
      "text/plain": [
       "payroll\n",
       "0.0    12885285\n",
       "1.0      745961\n",
       "Name: count, dtype: int64"
      ]
     },
     "execution_count": 84,
     "metadata": {},
     "output_type": "execute_result"
    }
   ],
   "source": [
    "dff.payroll.value_counts()"
   ]
  },
  {
   "cell_type": "markdown",
   "metadata": {},
   "source": [
    "Let's replace the nulls with 0s as it's dominant category"
   ]
  },
  {
   "cell_type": "code",
   "execution_count": 85,
   "metadata": {},
   "outputs": [],
   "source": [
    "dff.loc[dff.payroll.isnull(),'payroll'] = 0"
   ]
  },
  {
   "cell_type": "code",
   "execution_count": 86,
   "metadata": {},
   "outputs": [
    {
     "data": {
      "text/plain": [
       "0"
      ]
     },
     "execution_count": 86,
     "metadata": {},
     "output_type": "execute_result"
    }
   ],
   "source": [
    "dff.payroll.isnull().sum()"
   ]
  },
  {
   "cell_type": "markdown",
   "metadata": {},
   "source": [
    "### Pensions"
   ]
  },
  {
   "cell_type": "code",
   "execution_count": 87,
   "metadata": {},
   "outputs": [
    {
     "data": {
      "text/plain": [
       "16063"
      ]
     },
     "execution_count": 87,
     "metadata": {},
     "output_type": "execute_result"
    }
   ],
   "source": [
    "dff.pensions.isnull().sum()"
   ]
  },
  {
   "cell_type": "code",
   "execution_count": 88,
   "metadata": {},
   "outputs": [
    {
     "data": {
      "text/plain": [
       "pensions\n",
       "0.0    12821161\n",
       "1.0      810085\n",
       "Name: count, dtype: int64"
      ]
     },
     "execution_count": 88,
     "metadata": {},
     "output_type": "execute_result"
    }
   ],
   "source": [
    "dff.pensions.value_counts()"
   ]
  },
  {
   "cell_type": "code",
   "execution_count": 89,
   "metadata": {},
   "outputs": [],
   "source": [
    "dff.loc[dff.pensions.isnull(),'pensions'] = 0"
   ]
  },
  {
   "cell_type": "markdown",
   "metadata": {},
   "source": [
    "### Sex"
   ]
  },
  {
   "cell_type": "code",
   "execution_count": 90,
   "metadata": {},
   "outputs": [
    {
     "data": {
      "text/plain": [
       "array(['H', 'V', nan], dtype=object)"
      ]
     },
     "execution_count": 90,
     "metadata": {},
     "output_type": "execute_result"
    }
   ],
   "source": [
    "dff.sex.unique()"
   ]
  },
  {
   "cell_type": "code",
   "execution_count": 91,
   "metadata": {},
   "outputs": [
    {
     "data": {
      "text/plain": [
       "27804"
      ]
     },
     "execution_count": 91,
     "metadata": {},
     "output_type": "execute_result"
    }
   ],
   "source": [
    "dff.sex.isnull().sum()"
   ]
  },
  {
   "cell_type": "code",
   "execution_count": 92,
   "metadata": {},
   "outputs": [],
   "source": [
    "null_sex_cust_code = dff.loc[dff['sex'].isnull(), 'customer_code'].unique()"
   ]
  },
  {
   "cell_type": "code",
   "execution_count": 93,
   "metadata": {},
   "outputs": [
    {
     "data": {
      "text/plain": [
       "(array([1050741, 1051017, 1051064, ...,  429713,  278257,  216507],\n",
       "       dtype=int64),\n",
       " 7345)"
      ]
     },
     "execution_count": 93,
     "metadata": {},
     "output_type": "execute_result"
    }
   ],
   "source": [
    "null_sex_cust_code, null_sex_cust_code.shape[0]"
   ]
  },
  {
   "cell_type": "code",
   "execution_count": 94,
   "metadata": {},
   "outputs": [],
   "source": [
    "cust_code_matching_notnull_cust = dff.loc[(dff['sex'].notnull())& (df['customer_code'].isin(null_sex_cust_code)), ['customer_code', 'sex']].groupby('customer_code').first()"
   ]
  },
  {
   "cell_type": "code",
   "execution_count": 95,
   "metadata": {},
   "outputs": [
    {
     "data": {
      "text/html": [
       "<div>\n",
       "<style scoped>\n",
       "    .dataframe tbody tr th:only-of-type {\n",
       "        vertical-align: middle;\n",
       "    }\n",
       "\n",
       "    .dataframe tbody tr th {\n",
       "        vertical-align: top;\n",
       "    }\n",
       "\n",
       "    .dataframe thead th {\n",
       "        text-align: right;\n",
       "    }\n",
       "</style>\n",
       "<table border=\"1\" class=\"dataframe\">\n",
       "  <thead>\n",
       "    <tr style=\"text-align: right;\">\n",
       "      <th></th>\n",
       "      <th>sex</th>\n",
       "    </tr>\n",
       "    <tr>\n",
       "      <th>customer_code</th>\n",
       "      <th></th>\n",
       "    </tr>\n",
       "  </thead>\n",
       "  <tbody>\n",
       "    <tr>\n",
       "      <th>35152</th>\n",
       "      <td>V</td>\n",
       "    </tr>\n",
       "    <tr>\n",
       "      <th>41449</th>\n",
       "      <td>V</td>\n",
       "    </tr>\n",
       "    <tr>\n",
       "      <th>48623</th>\n",
       "      <td>V</td>\n",
       "    </tr>\n",
       "    <tr>\n",
       "      <th>53148</th>\n",
       "      <td>V</td>\n",
       "    </tr>\n",
       "    <tr>\n",
       "      <th>58520</th>\n",
       "      <td>V</td>\n",
       "    </tr>\n",
       "  </tbody>\n",
       "</table>\n",
       "</div>"
      ],
      "text/plain": [
       "              sex\n",
       "customer_code    \n",
       "35152           V\n",
       "41449           V\n",
       "48623           V\n",
       "53148           V\n",
       "58520           V"
      ]
     },
     "execution_count": 95,
     "metadata": {},
     "output_type": "execute_result"
    }
   ],
   "source": [
    "cust_code_matching_notnull_cust.head()"
   ]
  },
  {
   "cell_type": "code",
   "execution_count": 96,
   "metadata": {},
   "outputs": [],
   "source": [
    "dff['sex'] = dff['customer_code'].map(cust_code_matching_notnull_cust['sex']).fillna(dff['sex']) \n"
   ]
  },
  {
   "cell_type": "code",
   "execution_count": 97,
   "metadata": {},
   "outputs": [
    {
     "data": {
      "text/plain": [
       "26755"
      ]
     },
     "execution_count": 97,
     "metadata": {},
     "output_type": "execute_result"
    }
   ],
   "source": [
    "dff.sex.isnull().sum()"
   ]
  },
  {
   "cell_type": "code",
   "execution_count": 98,
   "metadata": {},
   "outputs": [
    {
     "data": {
      "text/plain": [
       "sex\n",
       "V    7424931\n",
       "H    6195623\n",
       "Name: count, dtype: int64"
      ]
     },
     "execution_count": 98,
     "metadata": {},
     "output_type": "execute_result"
    }
   ],
   "source": [
    "dff[\"sex\"].value_counts()"
   ]
  },
  {
   "cell_type": "code",
   "execution_count": 99,
   "metadata": {},
   "outputs": [],
   "source": [
    "dff.loc[dff.sex.isnull(),\"sex\"] = 'Unknown'"
   ]
  },
  {
   "cell_type": "markdown",
   "metadata": {},
   "source": [
    "### Other columns with missing values"
   ]
  },
  {
   "cell_type": "code",
   "execution_count": 100,
   "metadata": {},
   "outputs": [
    {
     "name": "stdout",
     "output_type": "stream",
     "text": [
      "Unique values for employee_index:\n",
      "['N' nan 'A' 'B' 'F' 'S']\n",
      "\n",
      "Unique values for country_resid:\n",
      "['ES' nan 'CA' 'CH' 'CL' 'IE' 'AT' 'NL' 'FR' 'GB' 'DE' 'DO' 'BE' 'AR' 'VE'\n",
      " 'US' 'MX' 'BR' 'IT' 'EC' 'PE' 'CO' 'HN' 'FI' 'SE' 'AL' 'PT' 'MZ' 'CN'\n",
      " 'TW' 'PL' 'IN' 'CR' 'NI' 'HK' 'AD' 'CZ' 'AE' 'MA' 'GR' 'PR' 'RO' 'IL'\n",
      " 'RU' 'GT' 'GA' 'NO' 'SN' 'MR' 'UA' 'BG' 'PY' 'EE' 'SV' 'ET' 'CM' 'SA'\n",
      " 'CI' 'QA' 'LU' 'PA' 'BA' 'BO' 'AU' 'BY' 'KE' 'SG' 'HR' 'MD' 'SK' 'TR'\n",
      " 'AO' 'CU' 'GQ' 'EG' 'ZA' 'DK' 'UY' 'GE' 'TH' 'DZ' 'LB' 'JP' 'NG' 'PK'\n",
      " 'TN' 'TG' 'KR' 'GH' 'RS' 'VN' 'PH' 'KW' 'NZ' 'MM' 'KH' 'GI' 'SL' 'GN'\n",
      " 'GW' 'OM' 'CG' 'LV' 'LT' 'ML' 'MK' 'HU' 'IS' 'LY' 'CF' 'GM' 'KZ' 'CD'\n",
      " 'BZ' 'ZW' 'DJ' 'JM' 'BM' 'MT']\n",
      "\n",
      "Unique values for customer_type_atbeginningofmonth:\n",
      "[1.0 nan 3.0 2.0 '1.0' '1' '3' '3.0' '2.0' '4.0' 'P' '4' 4.0 '2']\n",
      "\n",
      "Unique values for customer_relationtype_atbeginningofmonth:\n",
      "['A' 'I' nan 'P' 'R' 'N']\n",
      "\n",
      "Unique values for customer_residence_index:\n",
      "['S' nan 'N']\n",
      "\n",
      "Unique values for customer_foreigner_index:\n",
      "['N' 'S' nan]\n",
      "\n",
      "Unique values for channel_used_tojoin:\n",
      "['KHL' 'KHE' 'KHD' 'KFA' 'KFC' 'KAT' nan 'KAZ' 'RED' 'KHC' 'KHK' 'KGN'\n",
      " 'KHM' 'KHO' 'KDH' 'KEH' 'KAD' 'KBG' 'KGC' 'KHF' 'KFK' 'KHN' 'KHA' 'KAF'\n",
      " 'KGX' 'KFD' 'KAG' 'KFG' 'KAB' 'KCC' 'KAE' 'KAH' 'KAR' 'KFJ' 'KFL' 'KAI'\n",
      " 'KFU' 'KAQ' 'KFS' 'KAA' 'KFP' 'KAJ' 'KFN' 'KGV' 'KGY' 'KFF' 'KAP' 'KDE'\n",
      " 'KFV' '013' 'K00' 'KAK' 'KCK' 'KCL' 'KAY' 'KBU' 'KDR' 'KAC' 'KDT' 'KCG'\n",
      " 'KDO' 'KDY' 'KBQ' 'KDA' 'KBO' 'KCI' 'KEC' 'KBZ' 'KES' 'KDX' 'KAS' '007'\n",
      " 'KEU' 'KCA' 'KAL' 'KDC' 'KAW' 'KCS' 'KCB' 'KDU' 'KDQ' 'KCN' 'KCM' '004'\n",
      " 'KCH' 'KCD' 'KCE' 'KEV' 'KBL' 'KEA' 'KBH' 'KDV' 'KFT' 'KEY' 'KAO' 'KEJ'\n",
      " 'KEO' 'KEI' 'KEW' 'KDZ' 'KBV' 'KBR' 'KBF' 'KDP' 'KCO' 'KCF' 'KCV' 'KAM'\n",
      " 'KEZ' 'KBD' 'KAN' 'KBY' 'KCT' 'KDD' 'KBW' 'KCU' 'KBX' 'KDB' 'KBS' 'KBE'\n",
      " 'KCX' 'KBP' 'KBN' 'KEB' 'KDS' 'KEL' 'KDG' 'KDF' 'KEF' 'KCP' 'KDM' 'KBB'\n",
      " 'KDW' 'KBJ' 'KFI' 'KBM' 'KEG' 'KEN' 'KEQ' 'KAV' 'KFH' 'KFM' 'KAU' 'KED'\n",
      " 'KFR' 'KEK' 'KFB' 'KGW' 'KFE' 'KGU' 'KDI' 'KDN' 'KEE' 'KCR' 'KCQ' 'KEM'\n",
      " 'KCJ' 'KHQ' 'KDL' '025' 'KHP' 'KHR' 'KHS']\n",
      "\n",
      "Unique values for customer_dceased:\n",
      "['N' nan 'S']\n",
      "\n",
      "Unique values for customer_segmentation_vip_indiv_colleggrad:\n",
      "['02 - PARTICULARES' '03 - UNIVERSITARIO' nan '01 - TOP']\n",
      "\n"
     ]
    }
   ],
   "source": [
    "object_columns = dff.select_dtypes(include=[\"object\"])\n",
    "missing_columns = [col for col in object_columns if object_columns[col].isnull().any()]\n",
    "for col in missing_columns:\n",
    "    print(\"Unique values for {0}:\\n{1}\\n\".format(col,object_columns[col].unique()))\n",
    "del object_columns"
   ]
  },
  {
   "cell_type": "code",
   "execution_count": 101,
   "metadata": {},
   "outputs": [
    {
     "name": "stderr",
     "output_type": "stream",
     "text": [
      "C:\\Users\\srafi\\AppData\\Local\\Temp\\ipykernel_16272\\3884304447.py:19: FutureWarning: A value is trying to be set on a copy of a DataFrame or Series through chained assignment using an inplace method.\n",
      "The behavior will change in pandas 3.0. This inplace method will never work because the intermediate object on which we are setting values always behaves as a copy.\n",
      "\n",
      "For example, when doing 'df[col].method(value, inplace=True)', try using 'df.method({col: value}, inplace=True)' or df[col] = df[col].method(value) instead, to perform the operation inplace on the original object.\n",
      "\n",
      "\n",
      "  dff.customer_type_atbeginningofmonth.fillna(\"P\",inplace=True)\n"
     ]
    }
   ],
   "source": [
    "dff.loc[dff.customer_dceased.isnull(),\"customer_dceased\"] = \"N\"\n",
    "dff.loc[dff.customer_relationtype_atbeginningofmonth.isnull(),\"customer_relationtype_atbeginningofmonth\"] = \"A\"\n",
    "dff.customer_relationtype_atbeginningofmonth = dff.customer_relationtype_atbeginningofmonth.astype(\"category\")\n",
    "\n",
    "# As suggested by @StephenSmith\n",
    "map_dict = { 1.0  : \"1\",\n",
    "            \"1.0\" : \"1\",\n",
    "            \"1\"   : \"1\",\n",
    "            \"3.0\" : \"3\",\n",
    "            \"P\"   : \"P\",\n",
    "            3.0   : \"3\",\n",
    "            2.0   : \"2\",\n",
    "            \"3\"   : \"3\",\n",
    "            \"2.0\" : \"2\",\n",
    "            \"4.0\" : \"4\",\n",
    "            \"4\"   : \"4\",\n",
    "            \"2\"   : \"2\"}\n",
    "\n",
    "dff.customer_type_atbeginningofmonth.fillna(\"P\",inplace=True)\n",
    "dff.customer_type_atbeginningofmonth = dff.customer_type_atbeginningofmonth.apply(lambda x: map_dict.get(x,x))\n",
    "dff.customer_type_atbeginningofmonth = dff.customer_type_atbeginningofmonth.astype(\"category\")"
   ]
  },
  {
   "cell_type": "code",
   "execution_count": 102,
   "metadata": {},
   "outputs": [],
   "source": [
    "unknown_cols = [col for col in missing_columns if col not in [\"customer_dceased\",\"customer_relationtype_atbeginningofmonth\",\"customer_type_atbeginningofmonth\"]]\n",
    "for col in unknown_cols:\n",
    "    dff.loc[df[col].isnull(),col] = \"UNKNOWN\""
   ]
  },
  {
   "cell_type": "code",
   "execution_count": 104,
   "metadata": {},
   "outputs": [
    {
     "data": {
      "text/plain": [
       "date_identifier                               0\n",
       "customer_code                                 0\n",
       "employee_index                                0\n",
       "country_resid                                 0\n",
       "sex                                           0\n",
       "age                                           0\n",
       "date_join                                     0\n",
       "customer_registered_in_last6month             0\n",
       "customer_seniority_month                      0\n",
       "customer_loyalty                              0\n",
       "customer_type_atbeginningofmonth              0\n",
       "customer_relationtype_atbeginningofmonth      0\n",
       "customer_residence_index                      0\n",
       "customer_foreigner_index                      0\n",
       "channel_used_tojoin                           0\n",
       "customer_dceased                              0\n",
       "province_name                                 0\n",
       "activity_index                                0\n",
       "gross_income_household                        0\n",
       "customer_segmentation_vip_indiv_colleggrad    0\n",
       "saving_account                                0\n",
       "guarantees                                    0\n",
       "current_accounts                              0\n",
       "derivada_account                              0\n",
       "payroll_account                               0\n",
       "junior_account                                0\n",
       "más_particular_account                        0\n",
       "particular_account                            0\n",
       "particular_plus_account                       0\n",
       "shortterm_deposits                            0\n",
       "mediumterm_deposits                           0\n",
       "longterm_deposits                             0\n",
       "e_account                                     0\n",
       "funds                                         0\n",
       "mortgage                                      0\n",
       "pensions_plan                                 0\n",
       "loans                                         0\n",
       "taxes                                         0\n",
       "credit_card                                   0\n",
       "securities                                    0\n",
       "home_account                                  0\n",
       "payroll                                       0\n",
       "pensions                                      0\n",
       "direct_debit                                  0\n",
       "month                                         0\n",
       "dtype: int64"
      ]
     },
     "execution_count": 104,
     "metadata": {},
     "output_type": "execute_result"
    }
   ],
   "source": [
    "dff.isnull().sum()"
   ]
  },
  {
   "cell_type": "code",
   "execution_count": 111,
   "metadata": {},
   "outputs": [
    {
     "data": {
      "text/html": [
       "<div>\n",
       "<style scoped>\n",
       "    .dataframe tbody tr th:only-of-type {\n",
       "        vertical-align: middle;\n",
       "    }\n",
       "\n",
       "    .dataframe tbody tr th {\n",
       "        vertical-align: top;\n",
       "    }\n",
       "\n",
       "    .dataframe thead th {\n",
       "        text-align: right;\n",
       "    }\n",
       "</style>\n",
       "<table border=\"1\" class=\"dataframe\">\n",
       "  <thead>\n",
       "    <tr style=\"text-align: right;\">\n",
       "      <th></th>\n",
       "      <th>Column Name</th>\n",
       "      <th>Description</th>\n",
       "      <th>English Name</th>\n",
       "    </tr>\n",
       "  </thead>\n",
       "  <tbody>\n",
       "    <tr>\n",
       "      <th>0</th>\n",
       "      <td>fecha_dato</td>\n",
       "      <td>The table is partitioned for this column</td>\n",
       "      <td>date_identifier</td>\n",
       "    </tr>\n",
       "    <tr>\n",
       "      <th>1</th>\n",
       "      <td>ncodpers</td>\n",
       "      <td>Customer code</td>\n",
       "      <td>customer_code</td>\n",
       "    </tr>\n",
       "    <tr>\n",
       "      <th>2</th>\n",
       "      <td>ind_empleado</td>\n",
       "      <td>Employee index: A active, B ex employed, F filial, N not employee, P pasive</td>\n",
       "      <td>employee_index</td>\n",
       "    </tr>\n",
       "    <tr>\n",
       "      <th>3</th>\n",
       "      <td>pais_residencia</td>\n",
       "      <td>Customer's Country residence</td>\n",
       "      <td>country_resid</td>\n",
       "    </tr>\n",
       "    <tr>\n",
       "      <th>4</th>\n",
       "      <td>sexo</td>\n",
       "      <td>Customer's sex</td>\n",
       "      <td>sex</td>\n",
       "    </tr>\n",
       "    <tr>\n",
       "      <th>5</th>\n",
       "      <td>age</td>\n",
       "      <td>Age</td>\n",
       "      <td>age</td>\n",
       "    </tr>\n",
       "    <tr>\n",
       "      <th>6</th>\n",
       "      <td>fecha_alta</td>\n",
       "      <td>The date in which the customer became as the first holder of a contract in the bank</td>\n",
       "      <td>date_join</td>\n",
       "    </tr>\n",
       "    <tr>\n",
       "      <th>7</th>\n",
       "      <td>ind_nuevo</td>\n",
       "      <td>New customer Index. 1 if the customer registered in the last 6 months.</td>\n",
       "      <td>customer_registered_in_last6month</td>\n",
       "    </tr>\n",
       "    <tr>\n",
       "      <th>8</th>\n",
       "      <td>antiguedad</td>\n",
       "      <td>Customer seniority (in months)</td>\n",
       "      <td>customer_seniority_month</td>\n",
       "    </tr>\n",
       "    <tr>\n",
       "      <th>9</th>\n",
       "      <td>indrel</td>\n",
       "      <td>1 (First/Primary), 99 (Primary customer during the month but not at the end of the month)</td>\n",
       "      <td>customer_loyalty</td>\n",
       "    </tr>\n",
       "    <tr>\n",
       "      <th>10</th>\n",
       "      <td>ult_fec_cli_1t</td>\n",
       "      <td>Last date as primary customer (if he isn't at the end of the month)</td>\n",
       "      <td>last_date_asprimary_customer_ifnot_endofmonth</td>\n",
       "    </tr>\n",
       "    <tr>\n",
       "      <th>11</th>\n",
       "      <td>indrel_1mes</td>\n",
       "      <td>Customer type at the beginning of the month ,1 (First/Primary customer), 2 (co-owner ),P (Potential),3 (former primary), 4(former co-owner)</td>\n",
       "      <td>customer_type_atbeginningofmonth</td>\n",
       "    </tr>\n",
       "    <tr>\n",
       "      <th>12</th>\n",
       "      <td>tiprel_1mes</td>\n",
       "      <td>Customer relation type at the beginning of the month, A (active), I (inactive), P (former customer),R (Potential)</td>\n",
       "      <td>customer_relationtype_atbeginningofmonth</td>\n",
       "    </tr>\n",
       "    <tr>\n",
       "      <th>13</th>\n",
       "      <td>indresi</td>\n",
       "      <td>Residence index (S (Yes) or N (No) if the residence country is the same than the bank country)</td>\n",
       "      <td>customer_residence_index</td>\n",
       "    </tr>\n",
       "    <tr>\n",
       "      <th>14</th>\n",
       "      <td>indext</td>\n",
       "      <td>Foreigner index (S (Yes) or N (No) if the customer's birth country is different than the bank country)</td>\n",
       "      <td>customer_foreigner_index</td>\n",
       "    </tr>\n",
       "    <tr>\n",
       "      <th>15</th>\n",
       "      <td>conyuemp</td>\n",
       "      <td>Spouse index. 1 if the customer is spouse of an employee</td>\n",
       "      <td>spouse_index</td>\n",
       "    </tr>\n",
       "    <tr>\n",
       "      <th>16</th>\n",
       "      <td>canal_entrada</td>\n",
       "      <td>channel used by the customer to join</td>\n",
       "      <td>channel_used_tojoin</td>\n",
       "    </tr>\n",
       "    <tr>\n",
       "      <th>17</th>\n",
       "      <td>indfall</td>\n",
       "      <td>Deceased index. N/S</td>\n",
       "      <td>customer_dceased</td>\n",
       "    </tr>\n",
       "    <tr>\n",
       "      <th>18</th>\n",
       "      <td>tipodom</td>\n",
       "      <td>Addres type. 1, primary address</td>\n",
       "      <td>address_type</td>\n",
       "    </tr>\n",
       "    <tr>\n",
       "      <th>19</th>\n",
       "      <td>cod_prov</td>\n",
       "      <td>Province code (customer's address)</td>\n",
       "      <td>province_code</td>\n",
       "    </tr>\n",
       "    <tr>\n",
       "      <th>20</th>\n",
       "      <td>nomprov</td>\n",
       "      <td>Province name</td>\n",
       "      <td>province_name</td>\n",
       "    </tr>\n",
       "    <tr>\n",
       "      <th>21</th>\n",
       "      <td>ind_actividad_cliente</td>\n",
       "      <td>Activity index (1, active customer; 0, inactive customer)</td>\n",
       "      <td>activity_index</td>\n",
       "    </tr>\n",
       "    <tr>\n",
       "      <th>22</th>\n",
       "      <td>renta</td>\n",
       "      <td>Gross income of the household</td>\n",
       "      <td>gross_income_household</td>\n",
       "    </tr>\n",
       "    <tr>\n",
       "      <th>23</th>\n",
       "      <td>segmento</td>\n",
       "      <td>segmentation: 01 - VIP, 02 - Individuals 03 - college graduated</td>\n",
       "      <td>customer_segmentation_vip_indiv_colleggrad</td>\n",
       "    </tr>\n",
       "    <tr>\n",
       "      <th>24</th>\n",
       "      <td>ind_ahor_fin_ult1</td>\n",
       "      <td>Saving Account</td>\n",
       "      <td>saving_account</td>\n",
       "    </tr>\n",
       "    <tr>\n",
       "      <th>25</th>\n",
       "      <td>ind_aval_fin_ult1</td>\n",
       "      <td>Guarantees</td>\n",
       "      <td>guarantees</td>\n",
       "    </tr>\n",
       "    <tr>\n",
       "      <th>26</th>\n",
       "      <td>ind_cco_fin_ult1</td>\n",
       "      <td>Current Accounts</td>\n",
       "      <td>current_accounts</td>\n",
       "    </tr>\n",
       "    <tr>\n",
       "      <th>27</th>\n",
       "      <td>ind_cder_fin_ult1</td>\n",
       "      <td>Derivada Account</td>\n",
       "      <td>derivada_account</td>\n",
       "    </tr>\n",
       "    <tr>\n",
       "      <th>28</th>\n",
       "      <td>ind_cno_fin_ult1</td>\n",
       "      <td>Payroll Account</td>\n",
       "      <td>payroll_account</td>\n",
       "    </tr>\n",
       "    <tr>\n",
       "      <th>29</th>\n",
       "      <td>ind_ctju_fin_ult1</td>\n",
       "      <td>Junior Account</td>\n",
       "      <td>junior_account</td>\n",
       "    </tr>\n",
       "    <tr>\n",
       "      <th>30</th>\n",
       "      <td>ind_ctma_fin_ult1</td>\n",
       "      <td>Más particular Account</td>\n",
       "      <td>más_particular_account</td>\n",
       "    </tr>\n",
       "    <tr>\n",
       "      <th>31</th>\n",
       "      <td>ind_ctop_fin_ult1</td>\n",
       "      <td>particular Account</td>\n",
       "      <td>particular_account</td>\n",
       "    </tr>\n",
       "    <tr>\n",
       "      <th>32</th>\n",
       "      <td>ind_ctpp_fin_ult1</td>\n",
       "      <td>particular Plus Account</td>\n",
       "      <td>particular_plus_account</td>\n",
       "    </tr>\n",
       "    <tr>\n",
       "      <th>33</th>\n",
       "      <td>ind_deco_fin_ult1</td>\n",
       "      <td>Short-term deposits</td>\n",
       "      <td>shortterm_deposits</td>\n",
       "    </tr>\n",
       "    <tr>\n",
       "      <th>34</th>\n",
       "      <td>ind_deme_fin_ult1</td>\n",
       "      <td>Medium-term deposits</td>\n",
       "      <td>mediumterm_deposits</td>\n",
       "    </tr>\n",
       "    <tr>\n",
       "      <th>35</th>\n",
       "      <td>ind_dela_fin_ult1</td>\n",
       "      <td>Long-term deposits</td>\n",
       "      <td>longterm_deposits</td>\n",
       "    </tr>\n",
       "    <tr>\n",
       "      <th>36</th>\n",
       "      <td>ind_ecue_fin_ult1</td>\n",
       "      <td>e-account</td>\n",
       "      <td>e_account</td>\n",
       "    </tr>\n",
       "    <tr>\n",
       "      <th>37</th>\n",
       "      <td>ind_fond_fin_ult1</td>\n",
       "      <td>Funds</td>\n",
       "      <td>funds</td>\n",
       "    </tr>\n",
       "    <tr>\n",
       "      <th>38</th>\n",
       "      <td>ind_hip_fin_ult1</td>\n",
       "      <td>Mortgage</td>\n",
       "      <td>mortgage</td>\n",
       "    </tr>\n",
       "    <tr>\n",
       "      <th>39</th>\n",
       "      <td>ind_plan_fin_ult1</td>\n",
       "      <td>Pensions</td>\n",
       "      <td>pensions_plan</td>\n",
       "    </tr>\n",
       "    <tr>\n",
       "      <th>40</th>\n",
       "      <td>ind_pres_fin_ult1</td>\n",
       "      <td>Loans</td>\n",
       "      <td>loans</td>\n",
       "    </tr>\n",
       "    <tr>\n",
       "      <th>41</th>\n",
       "      <td>ind_reca_fin_ult1</td>\n",
       "      <td>Taxes</td>\n",
       "      <td>taxes</td>\n",
       "    </tr>\n",
       "    <tr>\n",
       "      <th>42</th>\n",
       "      <td>ind_tjcr_fin_ult1</td>\n",
       "      <td>Credit Card</td>\n",
       "      <td>credit_card</td>\n",
       "    </tr>\n",
       "    <tr>\n",
       "      <th>43</th>\n",
       "      <td>ind_valo_fin_ult1</td>\n",
       "      <td>Securities</td>\n",
       "      <td>securities</td>\n",
       "    </tr>\n",
       "    <tr>\n",
       "      <th>44</th>\n",
       "      <td>ind_viv_fin_ult1</td>\n",
       "      <td>Home Account</td>\n",
       "      <td>home_account</td>\n",
       "    </tr>\n",
       "    <tr>\n",
       "      <th>45</th>\n",
       "      <td>ind_nomina_ult1</td>\n",
       "      <td>Payroll</td>\n",
       "      <td>payroll</td>\n",
       "    </tr>\n",
       "    <tr>\n",
       "      <th>46</th>\n",
       "      <td>ind_nom_pens_ult1</td>\n",
       "      <td>Pensions</td>\n",
       "      <td>pensions</td>\n",
       "    </tr>\n",
       "    <tr>\n",
       "      <th>47</th>\n",
       "      <td>ind_recibo_ult1</td>\n",
       "      <td>Direct Debit</td>\n",
       "      <td>direct_debit</td>\n",
       "    </tr>\n",
       "  </tbody>\n",
       "</table>\n",
       "</div>"
      ],
      "text/plain": [
       "              Column Name  \\\n",
       "0              fecha_dato   \n",
       "1                ncodpers   \n",
       "2            ind_empleado   \n",
       "3         pais_residencia   \n",
       "4                    sexo   \n",
       "5                     age   \n",
       "6              fecha_alta   \n",
       "7               ind_nuevo   \n",
       "8              antiguedad   \n",
       "9                  indrel   \n",
       "10         ult_fec_cli_1t   \n",
       "11            indrel_1mes   \n",
       "12            tiprel_1mes   \n",
       "13                indresi   \n",
       "14                 indext   \n",
       "15               conyuemp   \n",
       "16          canal_entrada   \n",
       "17                indfall   \n",
       "18                tipodom   \n",
       "19               cod_prov   \n",
       "20                nomprov   \n",
       "21  ind_actividad_cliente   \n",
       "22                  renta   \n",
       "23               segmento   \n",
       "24      ind_ahor_fin_ult1   \n",
       "25      ind_aval_fin_ult1   \n",
       "26       ind_cco_fin_ult1   \n",
       "27      ind_cder_fin_ult1   \n",
       "28       ind_cno_fin_ult1   \n",
       "29      ind_ctju_fin_ult1   \n",
       "30      ind_ctma_fin_ult1   \n",
       "31      ind_ctop_fin_ult1   \n",
       "32      ind_ctpp_fin_ult1   \n",
       "33      ind_deco_fin_ult1   \n",
       "34      ind_deme_fin_ult1   \n",
       "35      ind_dela_fin_ult1   \n",
       "36      ind_ecue_fin_ult1   \n",
       "37      ind_fond_fin_ult1   \n",
       "38       ind_hip_fin_ult1   \n",
       "39      ind_plan_fin_ult1   \n",
       "40      ind_pres_fin_ult1   \n",
       "41      ind_reca_fin_ult1   \n",
       "42      ind_tjcr_fin_ult1   \n",
       "43      ind_valo_fin_ult1   \n",
       "44       ind_viv_fin_ult1   \n",
       "45        ind_nomina_ult1   \n",
       "46      ind_nom_pens_ult1   \n",
       "47        ind_recibo_ult1   \n",
       "\n",
       "                                                                                                                                    Description  \\\n",
       "0                                                                                                      The table is partitioned for this column   \n",
       "1                                                                                                                                 Customer code   \n",
       "2                                                                   Employee index: A active, B ex employed, F filial, N not employee, P pasive   \n",
       "3                                                                                                                  Customer's Country residence   \n",
       "4                                                                                                                                Customer's sex   \n",
       "5                                                                                                                                           Age   \n",
       "6                                                           The date in which the customer became as the first holder of a contract in the bank   \n",
       "7                                                                        New customer Index. 1 if the customer registered in the last 6 months.   \n",
       "8                                                                                                                Customer seniority (in months)   \n",
       "9                                                     1 (First/Primary), 99 (Primary customer during the month but not at the end of the month)   \n",
       "10                                                                          Last date as primary customer (if he isn't at the end of the month)   \n",
       "11  Customer type at the beginning of the month ,1 (First/Primary customer), 2 (co-owner ),P (Potential),3 (former primary), 4(former co-owner)   \n",
       "12                            Customer relation type at the beginning of the month, A (active), I (inactive), P (former customer),R (Potential)   \n",
       "13                                               Residence index (S (Yes) or N (No) if the residence country is the same than the bank country)   \n",
       "14                                       Foreigner index (S (Yes) or N (No) if the customer's birth country is different than the bank country)   \n",
       "15                                                                                     Spouse index. 1 if the customer is spouse of an employee   \n",
       "16                                                                                                         channel used by the customer to join   \n",
       "17                                                                                                                          Deceased index. N/S   \n",
       "18                                                                                                              Addres type. 1, primary address   \n",
       "19                                                                                                           Province code (customer's address)   \n",
       "20                                                                                                                                Province name   \n",
       "21                                                                                    Activity index (1, active customer; 0, inactive customer)   \n",
       "22                                                                                                                Gross income of the household   \n",
       "23                                                                              segmentation: 01 - VIP, 02 - Individuals 03 - college graduated   \n",
       "24                                                                                                                               Saving Account   \n",
       "25                                                                                                                                   Guarantees   \n",
       "26                                                                                                                             Current Accounts   \n",
       "27                                                                                                                             Derivada Account   \n",
       "28                                                                                                                              Payroll Account   \n",
       "29                                                                                                                               Junior Account   \n",
       "30                                                                                                                       Más particular Account   \n",
       "31                                                                                                                           particular Account   \n",
       "32                                                                                                                      particular Plus Account   \n",
       "33                                                                                                                          Short-term deposits   \n",
       "34                                                                                                                         Medium-term deposits   \n",
       "35                                                                                                                           Long-term deposits   \n",
       "36                                                                                                                                    e-account   \n",
       "37                                                                                                                                        Funds   \n",
       "38                                                                                                                                     Mortgage   \n",
       "39                                                                                                                                     Pensions   \n",
       "40                                                                                                                                        Loans   \n",
       "41                                                                                                                                        Taxes   \n",
       "42                                                                                                                                  Credit Card   \n",
       "43                                                                                                                                   Securities   \n",
       "44                                                                                                                                 Home Account   \n",
       "45                                                                                                                                      Payroll   \n",
       "46                                                                                                                                     Pensions   \n",
       "47                                                                                                                                 Direct Debit   \n",
       "\n",
       "                                     English Name  \n",
       "0                                 date_identifier  \n",
       "1                                   customer_code  \n",
       "2                                  employee_index  \n",
       "3                                   country_resid  \n",
       "4                                             sex  \n",
       "5                                             age  \n",
       "6                                       date_join  \n",
       "7               customer_registered_in_last6month  \n",
       "8                        customer_seniority_month  \n",
       "9                                customer_loyalty  \n",
       "10  last_date_asprimary_customer_ifnot_endofmonth  \n",
       "11               customer_type_atbeginningofmonth  \n",
       "12       customer_relationtype_atbeginningofmonth  \n",
       "13                       customer_residence_index  \n",
       "14                       customer_foreigner_index  \n",
       "15                                   spouse_index  \n",
       "16                            channel_used_tojoin  \n",
       "17                               customer_dceased  \n",
       "18                                   address_type  \n",
       "19                                  province_code  \n",
       "20                                  province_name  \n",
       "21                                 activity_index  \n",
       "22                         gross_income_household  \n",
       "23     customer_segmentation_vip_indiv_colleggrad  \n",
       "24                                 saving_account  \n",
       "25                                     guarantees  \n",
       "26                               current_accounts  \n",
       "27                               derivada_account  \n",
       "28                                payroll_account  \n",
       "29                                 junior_account  \n",
       "30                         más_particular_account  \n",
       "31                             particular_account  \n",
       "32                        particular_plus_account  \n",
       "33                             shortterm_deposits  \n",
       "34                            mediumterm_deposits  \n",
       "35                              longterm_deposits  \n",
       "36                                      e_account  \n",
       "37                                          funds  \n",
       "38                                       mortgage  \n",
       "39                                  pensions_plan  \n",
       "40                                          loans  \n",
       "41                                          taxes  \n",
       "42                                    credit_card  \n",
       "43                                     securities  \n",
       "44                                   home_account  \n",
       "45                                        payroll  \n",
       "46                                       pensions  \n",
       "47                                   direct_debit  "
      ]
     },
     "execution_count": 111,
     "metadata": {},
     "output_type": "execute_result"
    }
   ],
   "source": [
    "features"
   ]
  },
  {
   "cell_type": "code",
   "execution_count": 110,
   "metadata": {},
   "outputs": [
    {
     "data": {
      "text/plain": [
       "0    2.0\n",
       "1    2.0\n",
       "2    2.0\n",
       "3    2.0\n",
       "4    2.0\n",
       "dtype: float64"
      ]
     },
     "execution_count": 110,
     "metadata": {},
     "output_type": "execute_result"
    }
   ],
   "source": [
    "dff.iloc[:,20:].sum(axis=1).head()"
   ]
  }
 ],
 "metadata": {
  "kernelspec": {
   "display_name": "cap2proj",
   "language": "python",
   "name": "cap2proj"
  },
  "language_info": {
   "codemirror_mode": {
    "name": "ipython",
    "version": 3
   },
   "file_extension": ".py",
   "mimetype": "text/x-python",
   "name": "python",
   "nbconvert_exporter": "python",
   "pygments_lexer": "ipython3",
   "version": "3.12.2"
  }
 },
 "nbformat": 4,
 "nbformat_minor": 2
}
